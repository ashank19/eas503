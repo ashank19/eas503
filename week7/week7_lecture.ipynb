{
 "cells": [
  {
   "cell_type": "code",
   "execution_count": 5,
   "id": "42f7947c",
   "metadata": {},
   "outputs": [
    {
     "name": "stdout",
     "output_type": "stream",
     "text": [
      "[0, 1, 2, 3, 4]\n",
      "[0, 1, 2, 3, 4]\n",
      "2\n",
      "[0, 11, 2, 3, 4]\n"
     ]
    }
   ],
   "source": [
    "def main():\n",
    "    numbers = [0, 1, 2, 3, 4]\n",
    "    x = 2\n",
    "    def modify():\n",
    "        numbers[1] = 11\n",
    "        print(x)\n",
    "\n",
    "    print(numbers)\n",
    "\n",
    "    \n",
    "    \n",
    "\n",
    "\n",
    "    \n",
    "    print(numbers)\n",
    "    modify()\n",
    "    print(numbers)\n",
    "\n",
    "main()"
   ]
  },
  {
   "cell_type": "code",
   "execution_count": 11,
   "id": "c56b81a8",
   "metadata": {},
   "outputs": [
    {
     "name": "stdout",
     "output_type": "stream",
     "text": [
      "2\n",
      "2\n",
      "3\n",
      "[0, 11, 2, 3, 4]\n",
      "2\n"
     ]
    }
   ],
   "source": [
    "def modify(numbers, x):\n",
    "    numbers[1] = 11\n",
    "    print(x)\n",
    "    x = 3\n",
    "    print(x)\n",
    "\n",
    "numbers = [0, 1, 2, 3, 4]\n",
    "x = 2\n",
    "z = {'abcd': 1, 'efg': 3}\n",
    "print(x)\n",
    "\n",
    "\n",
    "modify(numbers, x)\n",
    "print(numbers)\n",
    "print(x)\n",
    "\n"
   ]
  },
  {
   "cell_type": "code",
   "execution_count": 13,
   "id": "d3d55a7f",
   "metadata": {},
   "outputs": [
    {
     "name": "stdout",
     "output_type": "stream",
     "text": [
      "The final score is 88.4.\n",
      "The final score is 62.0.\n"
     ]
    }
   ],
   "source": [
    "class ScoreList:\n",
    "    def __init__(self, scores):\n",
    "        self.scores = scores\n",
    "\n",
    "    def average(self):\n",
    "        return sum(self.scores) / len(self.scores)\n",
    "\n",
    "scores1 = ScoreList([80, 90, 95, 92, 85]) \n",
    "print(f'The final score is {scores1.average()}.')   \n",
    "\n",
    "\n",
    "scores2 = ScoreList([80, 20, 95, 30, 85]) \n",
    "print(f'The final score is {scores2.average()}.')   "
   ]
  },
  {
   "cell_type": "code",
   "execution_count": 14,
   "id": "50c65ea2",
   "metadata": {},
   "outputs": [
    {
     "data": {
      "text/plain": [
       "'ABCD'"
      ]
     },
     "execution_count": 14,
     "metadata": {},
     "output_type": "execute_result"
    }
   ],
   "source": [
    "x = 'abcd'\n",
    "x.upper()"
   ]
  },
  {
   "cell_type": "code",
   "execution_count": 27,
   "id": "c8b3205a",
   "metadata": {},
   "outputs": [
    {
     "data": {
      "text/plain": [
       "'[80, 20, 95, 30, 85]'"
      ]
     },
     "execution_count": 27,
     "metadata": {},
     "output_type": "execute_result"
    }
   ],
   "source": [
    "str([80, 20, 95, 30, 85])"
   ]
  },
  {
   "cell_type": "code",
   "execution_count": 15,
   "id": "5e2ff613",
   "metadata": {},
   "outputs": [],
   "source": [
    "class ScoreList():\n",
    "    def __init__(self, scores):\n",
    "        self.scores = scores\n",
    "\n",
    "    def average(self):\n",
    "        return sum(self.scores) / len(self.scores)"
   ]
  },
  {
   "cell_type": "code",
   "execution_count": 29,
   "id": "61949893",
   "metadata": {},
   "outputs": [
    {
     "name": "stdout",
     "output_type": "stream",
     "text": [
      "Student Name: John Doe; Scores: 80, 90, 95, 92, 85\n"
     ]
    }
   ],
   "source": [
    "class ScoreList:\n",
    "    def __init__(self, scores, student_name):\n",
    "        self.scores = scores\n",
    "        self.student_name = student_name\n",
    "        \n",
    "    def __repr__(self):\n",
    "        return f'Student Name: {self.student_name}; Scores: {\", \".join([str(ele) for ele in self.scores])}'\n",
    "  \n",
    "    \n",
    "scores1 = ScoreList([80, 90, 95, 92, 85], 'John Doe')\n",
    "print(scores1)"
   ]
  },
  {
   "cell_type": "code",
   "execution_count": 31,
   "id": "a58b1e99",
   "metadata": {},
   "outputs": [
    {
     "name": "stdout",
     "output_type": "stream",
     "text": [
      "Student Name: Jane Doe; Scores: 80, 20, 95, 30, 85\n"
     ]
    }
   ],
   "source": [
    "scores2 = ScoreList([80, 20, 95, 30, 85], 'Jane Doe') \n",
    "print(scores2)"
   ]
  },
  {
   "cell_type": "code",
   "execution_count": 34,
   "id": "b954e402",
   "metadata": {},
   "outputs": [],
   "source": [
    "class Person:\n",
    "    def __init__(self, first_name, last_name, email):\n",
    "        self.first_name = first_name\n",
    "        self.last_name = last_name\n",
    "        self.email = email\n",
    "\n",
    "p1 = Person('John', 'Doe', 'jdoe@buffalo.edu')\n",
    "p2 = Person('Jane', 'Doe', 'jane@buffalo.edu')"
   ]
  },
  {
   "cell_type": "code",
   "execution_count": 33,
   "id": "bd19136e",
   "metadata": {},
   "outputs": [
    {
     "data": {
      "text/plain": [
       "<__main__.Person at 0x20ea4c715e0>"
      ]
     },
     "execution_count": 33,
     "metadata": {},
     "output_type": "execute_result"
    }
   ],
   "source": [
    "p1"
   ]
  },
  {
   "cell_type": "code",
   "execution_count": 35,
   "id": "5f6588a5",
   "metadata": {},
   "outputs": [
    {
     "data": {
      "text/plain": [
       "<__main__.Person at 0x20ea4c65610>"
      ]
     },
     "execution_count": 35,
     "metadata": {},
     "output_type": "execute_result"
    }
   ],
   "source": [
    "p2"
   ]
  },
  {
   "cell_type": "code",
   "execution_count": 36,
   "id": "272113a3",
   "metadata": {},
   "outputs": [],
   "source": [
    "class Person:\n",
    "    def __init__(self, first_name, last_name, email):\n",
    "        self.first_name = first_name\n",
    "        self.last_name = last_name\n",
    "        self.email = email\n",
    "        \n",
    "    def __repr__(self):\n",
    "        return f'{self.first_name} {self.last_name}'\n",
    "        \n",
    "p1 = Person('John', 'Doe', 'jdoe@buffalo.edu')\n",
    "p2 = Person('Jane', 'Doe', 'jane@buffalo.edu')"
   ]
  },
  {
   "cell_type": "code",
   "execution_count": 37,
   "id": "aec91c2f",
   "metadata": {},
   "outputs": [
    {
     "name": "stdout",
     "output_type": "stream",
     "text": [
      "John Doe\n"
     ]
    }
   ],
   "source": [
    "print(p1)"
   ]
  },
  {
   "cell_type": "code",
   "execution_count": 38,
   "id": "587c857e",
   "metadata": {},
   "outputs": [
    {
     "name": "stdout",
     "output_type": "stream",
     "text": [
      "Jane Doe\n"
     ]
    }
   ],
   "source": [
    "print(p2)"
   ]
  },
  {
   "cell_type": "code",
   "execution_count": 50,
   "id": "8af8742a",
   "metadata": {},
   "outputs": [],
   "source": [
    "class Person:\n",
    "    def __init__(self, first_name, last_name, email):\n",
    "        self.first_name = first_name\n",
    "        self.last_name = last_name\n",
    "        self.email = email\n",
    "        \n",
    "    def __repr__(self):\n",
    "        return f'{self.first_name} {self.last_name}'\n",
    "    \n",
    "    def get_email(self):\n",
    "        return self.email\n",
    "\n",
    "    def get_full_name(self):\n",
    "        return f'{self.last_name}, {self.first_name}'\n",
    "        \n",
    "p1 = Person('John', 'Doe', 'jdoe@buffalo.edu')\n",
    "p2 = Person('Jane', 'Doe', 'jane@buffalo.edu')"
   ]
  },
  {
   "cell_type": "code",
   "execution_count": 49,
   "id": "be68645c",
   "metadata": {},
   "outputs": [
    {
     "name": "stdout",
     "output_type": "stream",
     "text": [
      "John Doe\n",
      "Jane Doe\n"
     ]
    }
   ],
   "source": [
    "print(p1)\n",
    "print(p2)"
   ]
  },
  {
   "cell_type": "code",
   "execution_count": 48,
   "id": "3c6511bc",
   "metadata": {},
   "outputs": [
    {
     "data": {
      "text/plain": [
       "'John Doe'"
      ]
     },
     "execution_count": 48,
     "metadata": {},
     "output_type": "execute_result"
    }
   ],
   "source": [
    "p1.__repr__()"
   ]
  },
  {
   "cell_type": "code",
   "execution_count": 51,
   "id": "4dee764f",
   "metadata": {},
   "outputs": [
    {
     "data": {
      "text/plain": [
       "'Doe, John'"
      ]
     },
     "execution_count": 51,
     "metadata": {},
     "output_type": "execute_result"
    }
   ],
   "source": [
    "p1.get_full_name()"
   ]
  },
  {
   "cell_type": "code",
   "execution_count": 40,
   "id": "9dd7f053",
   "metadata": {},
   "outputs": [
    {
     "data": {
      "text/plain": [
       "'jdoe@buffalo.edu'"
      ]
     },
     "execution_count": 40,
     "metadata": {},
     "output_type": "execute_result"
    }
   ],
   "source": [
    "p1.get_email()"
   ]
  },
  {
   "cell_type": "code",
   "execution_count": 41,
   "id": "99d76615",
   "metadata": {},
   "outputs": [
    {
     "data": {
      "text/plain": [
       "'jane@buffalo.edu'"
      ]
     },
     "execution_count": 41,
     "metadata": {},
     "output_type": "execute_result"
    }
   ],
   "source": [
    "p2.get_email()"
   ]
  },
  {
   "cell_type": "code",
   "execution_count": 42,
   "id": "af1969db",
   "metadata": {},
   "outputs": [
    {
     "data": {
      "text/plain": [
       "'Doe, John'"
      ]
     },
     "execution_count": 42,
     "metadata": {},
     "output_type": "execute_result"
    }
   ],
   "source": [
    "p1.get_full_name()"
   ]
  },
  {
   "cell_type": "code",
   "execution_count": 43,
   "id": "96fb7b50",
   "metadata": {},
   "outputs": [
    {
     "data": {
      "text/plain": [
       "'jdoe@buffalo.edu'"
      ]
     },
     "execution_count": 43,
     "metadata": {},
     "output_type": "execute_result"
    }
   ],
   "source": [
    "p1.email"
   ]
  },
  {
   "cell_type": "code",
   "execution_count": 44,
   "id": "dfb49ecc",
   "metadata": {},
   "outputs": [
    {
     "ename": "AttributeError",
     "evalue": "'Person' object has no attribute 'x'",
     "output_type": "error",
     "traceback": [
      "\u001b[1;31m---------------------------------------------------------------------------\u001b[0m",
      "\u001b[1;31mAttributeError\u001b[0m                            Traceback (most recent call last)",
      "\u001b[1;32m~\\AppData\\Local\\Temp/ipykernel_9424/4010488739.py\u001b[0m in \u001b[0;36m<module>\u001b[1;34m\u001b[0m\n\u001b[1;32m----> 1\u001b[1;33m \u001b[0mp1\u001b[0m\u001b[1;33m.\u001b[0m\u001b[0mx\u001b[0m\u001b[1;33m\u001b[0m\u001b[1;33m\u001b[0m\u001b[0m\n\u001b[0m",
      "\u001b[1;31mAttributeError\u001b[0m: 'Person' object has no attribute 'x'"
     ]
    }
   ],
   "source": [
    "p1.x"
   ]
  },
  {
   "cell_type": "code",
   "execution_count": 45,
   "id": "750c2186",
   "metadata": {},
   "outputs": [
    {
     "ename": "AttributeError",
     "evalue": "'Person' object has no attribute 'average'",
     "output_type": "error",
     "traceback": [
      "\u001b[1;31m---------------------------------------------------------------------------\u001b[0m",
      "\u001b[1;31mAttributeError\u001b[0m                            Traceback (most recent call last)",
      "\u001b[1;32m~\\AppData\\Local\\Temp/ipykernel_9424/592723171.py\u001b[0m in \u001b[0;36m<module>\u001b[1;34m\u001b[0m\n\u001b[1;32m----> 1\u001b[1;33m \u001b[0mp1\u001b[0m\u001b[1;33m.\u001b[0m\u001b[0maverage\u001b[0m\u001b[1;33m(\u001b[0m\u001b[1;33m)\u001b[0m\u001b[1;33m\u001b[0m\u001b[1;33m\u001b[0m\u001b[0m\n\u001b[0m",
      "\u001b[1;31mAttributeError\u001b[0m: 'Person' object has no attribute 'average'"
     ]
    }
   ],
   "source": [
    "p1.average()"
   ]
  },
  {
   "cell_type": "code",
   "execution_count": 52,
   "id": "2917f150",
   "metadata": {},
   "outputs": [],
   "source": [
    "class Student:\n",
    "    def __init__(self, first_name, last_name, email, program):\n",
    "        self.first_name = first_name\n",
    "        self.last_name = last_name\n",
    "        self.email = email\n",
    "        self.program = program\n",
    "        \n",
    "    def __repr__(self):\n",
    "        return f'{self.first_name} {self.last_name}; {self.program}'\n",
    "    \n",
    "    def get_email(self):\n",
    "        return self.email\n",
    "\n",
    "    def get_full_name(self):\n",
    "        return f'{self.last_name}, {self.first_name}'"
   ]
  },
  {
   "cell_type": "code",
   "execution_count": 53,
   "id": "d2fafef0",
   "metadata": {},
   "outputs": [
    {
     "name": "stdout",
     "output_type": "stream",
     "text": [
      "John Doe; undergraduate\n"
     ]
    }
   ],
   "source": [
    "s1 = Student('John', 'Doe', 'jdoe@buffalo.edu', 'undergraduate')\n",
    "print(s1)"
   ]
  },
  {
   "cell_type": "code",
   "execution_count": 57,
   "id": "f7d899b9",
   "metadata": {},
   "outputs": [],
   "source": [
    "class Student(Person):\n",
    "    def __init__(self, first_name, last_name, email, program):\n",
    "        super().__init__(first_name, last_name, email)\n",
    "        self.program = program\n",
    "        "
   ]
  },
  {
   "cell_type": "code",
   "execution_count": 58,
   "id": "6679a4d1",
   "metadata": {},
   "outputs": [
    {
     "name": "stdout",
     "output_type": "stream",
     "text": [
      "John Doe\n"
     ]
    }
   ],
   "source": [
    "s1 = Student('John', 'Doe', 'jdoe@buffalo.edu', 'undergraduate')\n",
    "print(s1)"
   ]
  },
  {
   "cell_type": "code",
   "execution_count": 78,
   "id": "63d0c312",
   "metadata": {},
   "outputs": [],
   "source": [
    "class Student(Person):\n",
    "    def __init__(self, first_name, last_name, email, program):\n",
    "        super().__init__(first_name, last_name, email)\n",
    "        self.program = program\n",
    "   \n",
    "    def __repr__(self):\n",
    "        return f'{self.first_name} {self.last_name}; {self.program}'"
   ]
  },
  {
   "cell_type": "code",
   "execution_count": 79,
   "id": "f0024d87",
   "metadata": {},
   "outputs": [
    {
     "name": "stdout",
     "output_type": "stream",
     "text": [
      "John Doe; undergraduate\n"
     ]
    }
   ],
   "source": [
    "s1 = Student('John', 'Doe', 'jdoe@buffalo.edu', 'undergraduate')\n",
    "print(s1)"
   ]
  },
  {
   "cell_type": "code",
   "execution_count": 80,
   "id": "a4929dcb",
   "metadata": {},
   "outputs": [
    {
     "name": "stdout",
     "output_type": "stream",
     "text": [
      "John Doe; 12324\n"
     ]
    }
   ],
   "source": [
    "s2 = Student('John', 'Doe', 'jdoe@buffalo.edu', 12324)\n",
    "print(s2)\n"
   ]
  },
  {
   "cell_type": "code",
   "execution_count": 88,
   "id": "5fad98ee",
   "metadata": {},
   "outputs": [],
   "source": [
    "class Student(Person):\n",
    "    PROGRAMS = ['undergraduate', 'graduate']\n",
    "    \n",
    "    def __init__(self, first_name, last_name, email, program):\n",
    "        if program.lower() not in self.PROGRAMS:\n",
    "            raise ValueError(f'Programs can only be {self.PROGRAMS}. You entered: {program}.')\n",
    "        \n",
    "        super().__init__(first_name, last_name, email)\n",
    "        self.program = program\n",
    "   \n",
    "    def __repr__(self):\n",
    "        return f'{self.first_name} {self.last_name}; {self.program}'"
   ]
  },
  {
   "cell_type": "code",
   "execution_count": 89,
   "id": "79375d41",
   "metadata": {},
   "outputs": [
    {
     "ename": "ValueError",
     "evalue": "Programs can only be ['undergraduate', 'graduate']. You entered: PhD.",
     "output_type": "error",
     "traceback": [
      "\u001b[1;31m---------------------------------------------------------------------------\u001b[0m",
      "\u001b[1;31mValueError\u001b[0m                                Traceback (most recent call last)",
      "\u001b[1;32m~\\AppData\\Local\\Temp/ipykernel_9424/3362640594.py\u001b[0m in \u001b[0;36m<module>\u001b[1;34m\u001b[0m\n\u001b[1;32m----> 1\u001b[1;33m \u001b[0ms2\u001b[0m \u001b[1;33m=\u001b[0m \u001b[0mStudent\u001b[0m\u001b[1;33m(\u001b[0m\u001b[1;34m'John'\u001b[0m\u001b[1;33m,\u001b[0m \u001b[1;34m'Doe'\u001b[0m\u001b[1;33m,\u001b[0m \u001b[1;34m'jdoe@buffalo.edu'\u001b[0m\u001b[1;33m,\u001b[0m \u001b[1;34m'PhD'\u001b[0m\u001b[1;33m)\u001b[0m\u001b[1;33m\u001b[0m\u001b[1;33m\u001b[0m\u001b[0m\n\u001b[0m\u001b[0;32m      2\u001b[0m \u001b[0mprint\u001b[0m\u001b[1;33m(\u001b[0m\u001b[0ms2\u001b[0m\u001b[1;33m)\u001b[0m\u001b[1;33m\u001b[0m\u001b[1;33m\u001b[0m\u001b[0m\n",
      "\u001b[1;32m~\\AppData\\Local\\Temp/ipykernel_9424/901584195.py\u001b[0m in \u001b[0;36m__init__\u001b[1;34m(self, first_name, last_name, email, program)\u001b[0m\n\u001b[0;32m      4\u001b[0m     \u001b[1;32mdef\u001b[0m \u001b[0m__init__\u001b[0m\u001b[1;33m(\u001b[0m\u001b[0mself\u001b[0m\u001b[1;33m,\u001b[0m \u001b[0mfirst_name\u001b[0m\u001b[1;33m,\u001b[0m \u001b[0mlast_name\u001b[0m\u001b[1;33m,\u001b[0m \u001b[0memail\u001b[0m\u001b[1;33m,\u001b[0m \u001b[0mprogram\u001b[0m\u001b[1;33m)\u001b[0m\u001b[1;33m:\u001b[0m\u001b[1;33m\u001b[0m\u001b[1;33m\u001b[0m\u001b[0m\n\u001b[0;32m      5\u001b[0m         \u001b[1;32mif\u001b[0m \u001b[0mprogram\u001b[0m\u001b[1;33m.\u001b[0m\u001b[0mlower\u001b[0m\u001b[1;33m(\u001b[0m\u001b[1;33m)\u001b[0m \u001b[1;32mnot\u001b[0m \u001b[1;32min\u001b[0m \u001b[0mself\u001b[0m\u001b[1;33m.\u001b[0m\u001b[0mPROGRAMS\u001b[0m\u001b[1;33m:\u001b[0m\u001b[1;33m\u001b[0m\u001b[1;33m\u001b[0m\u001b[0m\n\u001b[1;32m----> 6\u001b[1;33m             \u001b[1;32mraise\u001b[0m \u001b[0mValueError\u001b[0m\u001b[1;33m(\u001b[0m\u001b[1;34mf'Programs can only be {self.PROGRAMS}. You entered: {program}.'\u001b[0m\u001b[1;33m)\u001b[0m\u001b[1;33m\u001b[0m\u001b[1;33m\u001b[0m\u001b[0m\n\u001b[0m\u001b[0;32m      7\u001b[0m \u001b[1;33m\u001b[0m\u001b[0m\n\u001b[0;32m      8\u001b[0m         \u001b[0msuper\u001b[0m\u001b[1;33m(\u001b[0m\u001b[1;33m)\u001b[0m\u001b[1;33m.\u001b[0m\u001b[0m__init__\u001b[0m\u001b[1;33m(\u001b[0m\u001b[0mfirst_name\u001b[0m\u001b[1;33m,\u001b[0m \u001b[0mlast_name\u001b[0m\u001b[1;33m,\u001b[0m \u001b[0memail\u001b[0m\u001b[1;33m)\u001b[0m\u001b[1;33m\u001b[0m\u001b[1;33m\u001b[0m\u001b[0m\n",
      "\u001b[1;31mValueError\u001b[0m: Programs can only be ['undergraduate', 'graduate']. You entered: PhD."
     ]
    }
   ],
   "source": [
    "s2 = Student('John', 'Doe', 'jdoe@buffalo.edu', 'PhD')\n",
    "print(s2)"
   ]
  },
  {
   "cell_type": "code",
   "execution_count": 97,
   "id": "5b45ab8d",
   "metadata": {},
   "outputs": [],
   "source": [
    "class Student(Person):\n",
    "    PROGRAMS = ['undergraduate', 'graduate']\n",
    "    \n",
    "    def __init__(self, first_name, last_name, email, program):\n",
    "        if program.lower() not in self.PROGRAMS:\n",
    "            raise ValueError(f'Programs can only be {self.PROGRAMS}. You entered: {program}.')\n",
    "        \n",
    "        super().__init__(first_name, last_name, email)\n",
    "        self.program = program.title()\n",
    "        self.classes = []\n",
    "   \n",
    "    def __repr__(self):\n",
    "        return f'{self.first_name} {self.last_name}; {self.program}'\n",
    "    \n",
    "    def enroll(self, class_name):\n",
    "        self.classes.append(class_name)\n",
    "        \n",
    "    def print_classes(self):\n",
    "        print(', '.join(self.classes))\n",
    "\n",
    "        "
   ]
  },
  {
   "cell_type": "code",
   "execution_count": 98,
   "id": "268e2701",
   "metadata": {},
   "outputs": [
    {
     "name": "stdout",
     "output_type": "stream",
     "text": [
      "John Doe; Undergraduate\n"
     ]
    }
   ],
   "source": [
    "s2 = Student('John', 'Doe', 'jdoe@buffalo.edu', 'UndergraduaTE')\n",
    "print(s2)"
   ]
  },
  {
   "cell_type": "code",
   "execution_count": 99,
   "id": "1fc065e2",
   "metadata": {},
   "outputs": [
    {
     "name": "stdout",
     "output_type": "stream",
     "text": [
      "EAS503, EAS501, EAS502\n"
     ]
    }
   ],
   "source": [
    "s2.enroll('EAS503')\n",
    "s2.enroll('EAS501')\n",
    "s2.enroll('EAS502')\n",
    "s2.print_classes()"
   ]
  },
  {
   "cell_type": "code",
   "execution_count": 100,
   "id": "700037f3",
   "metadata": {},
   "outputs": [
    {
     "data": {
      "text/plain": [
       "['EAS503', 'EAS501', 'EAS502']"
      ]
     },
     "execution_count": 100,
     "metadata": {},
     "output_type": "execute_result"
    }
   ],
   "source": [
    "s2.classes"
   ]
  },
  {
   "cell_type": "code",
   "execution_count": 101,
   "id": "25c674d5",
   "metadata": {},
   "outputs": [
    {
     "name": "stdout",
     "output_type": "stream",
     "text": [
      "EAS503, EAS501, EAS502, EAS503\n"
     ]
    }
   ],
   "source": [
    "s2.enroll('EAS503')\n",
    "s2.print_classes()"
   ]
  },
  {
   "cell_type": "code",
   "execution_count": 105,
   "id": "7c522483",
   "metadata": {},
   "outputs": [],
   "source": [
    "class Student(Person):\n",
    "    PROGRAMS = ['undergraduate', 'graduate']\n",
    "    \n",
    "    def __init__(self, first_name, last_name, email, program):\n",
    "        if program.lower() not in self.PROGRAMS:\n",
    "            raise ValueError(f'Programs can only be {self.PROGRAMS}. You entered: {program}.')\n",
    "        \n",
    "        super().__init__(first_name, last_name, email)\n",
    "        self.program = program.title()\n",
    "        self.classes = []\n",
    "   \n",
    "    def __repr__(self):\n",
    "        return f'{self.first_name} {self.last_name}; {self.program}'\n",
    "    \n",
    "    def enroll(self, class_name):\n",
    "        if class_name not in self.classes:\n",
    "            self.classes.append(class_name)\n",
    "        else:\n",
    "            print(f'Already enrolled in {class_name} ')\n",
    "        \n",
    "    def print_classes(self):\n",
    "        print(', '.join(self.classes))\n",
    "\n",
    "      "
   ]
  },
  {
   "cell_type": "code",
   "execution_count": 106,
   "id": "d2e6a3a7",
   "metadata": {},
   "outputs": [
    {
     "name": "stdout",
     "output_type": "stream",
     "text": [
      "John Doe; Undergraduate\n",
      "EAS503, EAS501, EAS502\n"
     ]
    }
   ],
   "source": [
    "s2 = Student('John', 'Doe', 'jdoe@buffalo.edu', 'UndergraduaTE')\n",
    "print(s2)\n",
    "s2.enroll('EAS503')\n",
    "s2.enroll('EAS501')\n",
    "s2.enroll('EAS502')\n",
    "s2.print_classes()"
   ]
  },
  {
   "cell_type": "code",
   "execution_count": 107,
   "id": "512bbcd3",
   "metadata": {},
   "outputs": [
    {
     "name": "stdout",
     "output_type": "stream",
     "text": [
      "Already enrolled in EAS502 \n"
     ]
    }
   ],
   "source": [
    "s2.enroll('EAS502')"
   ]
  },
  {
   "cell_type": "code",
   "execution_count": 108,
   "id": "f57894b7",
   "metadata": {},
   "outputs": [],
   "source": [
    "class Course:\n",
    "    def __init__(self, course_name, credits):\n",
    "        self.course_name = course_name\n",
    "        self.credits = credits\n",
    "\n",
    "    def __repr__(self):\n",
    "        return f'{self.course_name}'\n",
    "\n",
    "\n",
    "    def get_course_name(self):\n",
    "        return self.course_name\n",
    "\n",
    "\n"
   ]
  },
  {
   "cell_type": "code",
   "execution_count": 109,
   "id": "226b253f",
   "metadata": {},
   "outputs": [],
   "source": [
    "c1 = Course('Math', 3)\n",
    "c2 = Course('Physics', 4)\n",
    "c3 = Course('Chemistry', 3)\n",
    "c4 = Course('English', 3)\n"
   ]
  },
  {
   "cell_type": "code",
   "execution_count": 110,
   "id": "569e52d0",
   "metadata": {},
   "outputs": [
    {
     "name": "stdout",
     "output_type": "stream",
     "text": [
      "John Doe; Undergraduate\n"
     ]
    },
    {
     "ename": "TypeError",
     "evalue": "sequence item 0: expected str instance, Course found",
     "output_type": "error",
     "traceback": [
      "\u001b[1;31m---------------------------------------------------------------------------\u001b[0m",
      "\u001b[1;31mTypeError\u001b[0m                                 Traceback (most recent call last)",
      "\u001b[1;32m~\\AppData\\Local\\Temp/ipykernel_9424/2008857480.py\u001b[0m in \u001b[0;36m<module>\u001b[1;34m\u001b[0m\n\u001b[0;32m      5\u001b[0m \u001b[0ms2\u001b[0m\u001b[1;33m.\u001b[0m\u001b[0menroll\u001b[0m\u001b[1;33m(\u001b[0m\u001b[0mc3\u001b[0m\u001b[1;33m)\u001b[0m\u001b[1;33m\u001b[0m\u001b[1;33m\u001b[0m\u001b[0m\n\u001b[0;32m      6\u001b[0m \u001b[0ms2\u001b[0m\u001b[1;33m.\u001b[0m\u001b[0menroll\u001b[0m\u001b[1;33m(\u001b[0m\u001b[0mc4\u001b[0m\u001b[1;33m)\u001b[0m\u001b[1;33m\u001b[0m\u001b[1;33m\u001b[0m\u001b[0m\n\u001b[1;32m----> 7\u001b[1;33m \u001b[0ms2\u001b[0m\u001b[1;33m.\u001b[0m\u001b[0mprint_classes\u001b[0m\u001b[1;33m(\u001b[0m\u001b[1;33m)\u001b[0m\u001b[1;33m\u001b[0m\u001b[1;33m\u001b[0m\u001b[0m\n\u001b[0m",
      "\u001b[1;32m~\\AppData\\Local\\Temp/ipykernel_9424/4132214898.py\u001b[0m in \u001b[0;36mprint_classes\u001b[1;34m(self)\u001b[0m\n\u001b[0;32m     20\u001b[0m \u001b[1;33m\u001b[0m\u001b[0m\n\u001b[0;32m     21\u001b[0m     \u001b[1;32mdef\u001b[0m \u001b[0mprint_classes\u001b[0m\u001b[1;33m(\u001b[0m\u001b[0mself\u001b[0m\u001b[1;33m)\u001b[0m\u001b[1;33m:\u001b[0m\u001b[1;33m\u001b[0m\u001b[1;33m\u001b[0m\u001b[0m\n\u001b[1;32m---> 22\u001b[1;33m         \u001b[0mprint\u001b[0m\u001b[1;33m(\u001b[0m\u001b[1;34m', '\u001b[0m\u001b[1;33m.\u001b[0m\u001b[0mjoin\u001b[0m\u001b[1;33m(\u001b[0m\u001b[0mself\u001b[0m\u001b[1;33m.\u001b[0m\u001b[0mclasses\u001b[0m\u001b[1;33m)\u001b[0m\u001b[1;33m)\u001b[0m\u001b[1;33m\u001b[0m\u001b[1;33m\u001b[0m\u001b[0m\n\u001b[0m\u001b[0;32m     23\u001b[0m \u001b[1;33m\u001b[0m\u001b[0m\n\u001b[0;32m     24\u001b[0m \u001b[1;33m\u001b[0m\u001b[0m\n",
      "\u001b[1;31mTypeError\u001b[0m: sequence item 0: expected str instance, Course found"
     ]
    }
   ],
   "source": [
    "s2 = Student('John', 'Doe', 'jdoe@buffalo.edu', 'UndergraduaTE')\n",
    "print(s2)\n",
    "s2.enroll(c1)\n",
    "s2.enroll(c2)\n",
    "s2.enroll(c3)\n",
    "s2.enroll(c4)\n",
    "s2.print_classes()"
   ]
  },
  {
   "cell_type": "code",
   "execution_count": 111,
   "id": "78a40fa4",
   "metadata": {},
   "outputs": [
    {
     "ename": "TypeError",
     "evalue": "sequence item 0: expected str instance, Course found",
     "output_type": "error",
     "traceback": [
      "\u001b[1;31m---------------------------------------------------------------------------\u001b[0m",
      "\u001b[1;31mTypeError\u001b[0m                                 Traceback (most recent call last)",
      "\u001b[1;32m~\\AppData\\Local\\Temp/ipykernel_9424/1763853139.py\u001b[0m in \u001b[0;36m<module>\u001b[1;34m\u001b[0m\n\u001b[0;32m      1\u001b[0m \u001b[0mx\u001b[0m \u001b[1;33m=\u001b[0m \u001b[1;33m[\u001b[0m\u001b[0mc1\u001b[0m\u001b[1;33m,\u001b[0m \u001b[0mc2\u001b[0m\u001b[1;33m,\u001b[0m \u001b[0mc3\u001b[0m\u001b[1;33m,\u001b[0m \u001b[0mc4\u001b[0m\u001b[1;33m]\u001b[0m\u001b[1;33m\u001b[0m\u001b[1;33m\u001b[0m\u001b[0m\n\u001b[1;32m----> 2\u001b[1;33m \u001b[1;34m','\u001b[0m\u001b[1;33m.\u001b[0m\u001b[0mjoin\u001b[0m\u001b[1;33m(\u001b[0m\u001b[0mx\u001b[0m\u001b[1;33m)\u001b[0m\u001b[1;33m\u001b[0m\u001b[1;33m\u001b[0m\u001b[0m\n\u001b[0m",
      "\u001b[1;31mTypeError\u001b[0m: sequence item 0: expected str instance, Course found"
     ]
    }
   ],
   "source": [
    "x = [c1, c2, c3, c4]\n",
    "','.join(x)"
   ]
  },
  {
   "cell_type": "code",
   "execution_count": 112,
   "id": "4930eeb1",
   "metadata": {},
   "outputs": [
    {
     "data": {
      "text/plain": [
       "Math"
      ]
     },
     "execution_count": 112,
     "metadata": {},
     "output_type": "execute_result"
    }
   ],
   "source": [
    "c1"
   ]
  },
  {
   "cell_type": "code",
   "execution_count": 113,
   "id": "2eed2c30",
   "metadata": {},
   "outputs": [
    {
     "data": {
      "text/plain": [
       "Physics"
      ]
     },
     "execution_count": 113,
     "metadata": {},
     "output_type": "execute_result"
    }
   ],
   "source": [
    "c2"
   ]
  },
  {
   "cell_type": "code",
   "execution_count": 132,
   "id": "c7faba9f",
   "metadata": {},
   "outputs": [],
   "source": [
    "class Student(Person):\n",
    "    PROGRAMS = ['undergraduate', 'graduate']\n",
    "    MAX_CREDITS = 12\n",
    "    \n",
    "    def __init__(self, first_name, last_name, email, program):\n",
    "        if program.lower() not in self.PROGRAMS:\n",
    "            raise ValueError(f'Programs can only be {self.PROGRAMS}. You entered: {program}.')\n",
    "        \n",
    "        super().__init__(first_name, last_name, email)\n",
    "        self.program = program.title()\n",
    "        self.courses = []\n",
    "        self.total_credits = 0\n",
    "   \n",
    "    def __repr__(self):\n",
    "        return f'{self.first_name} {self.last_name}; {self.program}'\n",
    "    \n",
    "    def enroll(self, course):\n",
    "        if (self.total_credits + course.credits) > self.MAX_CREDITS:\n",
    "            print('This will put you above 16 Credits')\n",
    "            return       \n",
    "        if course not in self.courses:\n",
    "            self.courses.append(course)\n",
    "            print(self.courses[-1].course_name)\n",
    "            print(self.courses[-1].credits)\n",
    "            \n",
    "            self.total_credits += course.credits\n",
    "        else:\n",
    "            print(f'Already enrolled in {class_name} ')\n",
    "        \n",
    "    def print_classes(self):\n",
    "        print(', '.join([ele.course_name for ele in self.courses]))\n",
    "\n",
    "      "
   ]
  },
  {
   "cell_type": "code",
   "execution_count": 133,
   "id": "fd80ecdc",
   "metadata": {},
   "outputs": [
    {
     "name": "stdout",
     "output_type": "stream",
     "text": [
      "John Doe; Undergraduate\n",
      "Math\n",
      "3\n",
      "Physics\n",
      "4\n",
      "Chemistry\n",
      "3\n",
      "This will put you above 16 Credits\n",
      "Math, Physics, Chemistry\n"
     ]
    }
   ],
   "source": [
    "s2 = Student('John', 'Doe', 'jdoe@buffalo.edu', 'UndergraduaTE')\n",
    "print(s2)\n",
    "s2.enroll(c1)\n",
    "s2.enroll(c2)\n",
    "s2.enroll(c3)\n",
    "s2.enroll(c4)\n",
    "s2.print_classes()"
   ]
  },
  {
   "cell_type": "code",
   "execution_count": 128,
   "id": "c57be054",
   "metadata": {},
   "outputs": [
    {
     "data": {
      "text/plain": [
       "13"
      ]
     },
     "execution_count": 128,
     "metadata": {},
     "output_type": "execute_result"
    }
   ],
   "source": [
    "s2.total_credits"
   ]
  },
  {
   "cell_type": "code",
   "execution_count": 131,
   "id": "bedf324f",
   "metadata": {},
   "outputs": [
    {
     "data": {
      "text/plain": [
       "English"
      ]
     },
     "execution_count": 131,
     "metadata": {},
     "output_type": "execute_result"
    }
   ],
   "source": [
    "s2.enroll(c1, c2, c3, c4)"
   ]
  },
  {
   "cell_type": "code",
   "execution_count": 134,
   "id": "d8d43e35",
   "metadata": {},
   "outputs": [],
   "source": [
    "class Student(Person):\n",
    "    PROGRAMS = ['undergraduate', 'graduate']\n",
    "    MAX_CREDITS = 12\n",
    "    \n",
    "    def __init__(self, first_name, last_name, email, program):\n",
    "        if program.lower() not in self.PROGRAMS:\n",
    "            raise ValueError(f'Programs can only be {self.PROGRAMS}. You entered: {program}.')\n",
    "        \n",
    "        super().__init__(first_name, last_name, email)\n",
    "        self.program = program.title()\n",
    "        self.courses = []\n",
    "        self.total_credits = 0\n",
    "   \n",
    "    def __repr__(self):\n",
    "        return f'{self.first_name} {self.last_name}; {self.program}'\n",
    "    \n",
    "    def enroll(self, *courses):\n",
    "        for course in courses:\n",
    "            if (self.total_credits + course.credits) > self.MAX_CREDITS:\n",
    "                print('This will put you above 16 Credits')\n",
    "                return       \n",
    "            if course not in self.courses:\n",
    "                self.courses.append(course)\n",
    "                print(self.courses[-1].course_name)\n",
    "                print(self.courses[-1].credits)\n",
    "\n",
    "                self.total_credits += course.credits\n",
    "            else:\n",
    "                print(f'Already enrolled in {class_name} ')\n",
    "        \n",
    "    def print_classes(self):\n",
    "        print(', '.join([ele.course_name for ele in self.courses]))\n",
    "\n",
    "      \n"
   ]
  },
  {
   "cell_type": "code",
   "execution_count": 135,
   "id": "11c59ba0",
   "metadata": {},
   "outputs": [
    {
     "name": "stdout",
     "output_type": "stream",
     "text": [
      "John Doe; Undergraduate\n",
      "Math\n",
      "3\n",
      "Physics\n",
      "4\n",
      "Chemistry\n",
      "3\n",
      "This will put you above 16 Credits\n",
      "Math, Physics, Chemistry\n"
     ]
    }
   ],
   "source": [
    "s2 = Student('John', 'Doe', 'jdoe@buffalo.edu', 'UndergraduaTE')\n",
    "print(s2)\n",
    "s2.enroll(c1, c2, c3, c4)\n",
    "s2.print_classes()"
   ]
  },
  {
   "cell_type": "code",
   "execution_count": 136,
   "id": "75eb3140",
   "metadata": {},
   "outputs": [
    {
     "name": "stdout",
     "output_type": "stream",
     "text": [
      "Coke: 60\n",
      "Pepsi: 50\n",
      "7up: 40\n"
     ]
    }
   ],
   "source": [
    "# Write a Beverage class whose instances will\n",
    "# represent beverages. Each beverage should have \n",
    "# two attributes: a name (describing the beverage)\n",
    "# and a temperature. Create several beverages and \n",
    "# check that their names and temperatures are all\n",
    "# handled correctly.\n",
    "\n",
    "#first name --> first_name (variables and Functions)\n",
    "# first_name --> FirstName (classes)\n",
    "\n",
    "class Beverage:\n",
    "    def __init__(self, name, temp):\n",
    "        self.name = name\n",
    "        self.temp = temp\n",
    "        \n",
    "    def __repr__(self):\n",
    "        return f'{self.name}: {self.temp}'\n",
    "        \n",
    "b1 = Beverage('Coke', 60)\n",
    "b2 = Beverage('Pepsi', 50)\n",
    "b3 = Beverage('7up', 40)\n",
    "\n",
    "beverages = [b1, b2, b3]\n",
    "for beverage in beverages:\n",
    "    print(beverage)"
   ]
  },
  {
   "cell_type": "code",
   "execution_count": 137,
   "id": "38a7680f",
   "metadata": {},
   "outputs": [
    {
     "name": "stdout",
     "output_type": "stream",
     "text": [
      "Coke: 60\n",
      "Pepsi: 75\n",
      "7up: 40\n"
     ]
    }
   ],
   "source": [
    "# Modify the Beverage class, such that you can create \n",
    "# a new instance specifying the name, \n",
    "# and not the temperature. \n",
    "# If you do this, then the temperature should \n",
    "# have a default value of 75 degrees Celsius. \n",
    "# Create several beverages and double-check \n",
    "# that the temperature has this default when \n",
    "# not specified.\n",
    "\n",
    "class Beverage:\n",
    "    def __init__(self, name, temp=75):\n",
    "        self.name = name\n",
    "        self.temp = temp\n",
    "        \n",
    "    def __repr__(self):\n",
    "        return f'{self.name}: {self.temp}'\n",
    "        \n",
    "b1 = Beverage('Coke', 60)\n",
    "b2 = Beverage('Pepsi')\n",
    "b3 = Beverage('7up', 40)\n",
    "\n",
    "beverages = [b1, b2, b3]\n",
    "for beverage in beverages:\n",
    "    print(beverage)"
   ]
  },
  {
   "cell_type": "code",
   "execution_count": 140,
   "id": "91625e1f",
   "metadata": {},
   "outputs": [],
   "source": [
    "\n",
    "# Create a new LogFile class that expects to \n",
    "# be initialized with a filename. \n",
    "# Inside of __init__, open the file for \n",
    "# writing and assign it to an attribute, file, \n",
    "# that sits on the instance. Check that it’s \n",
    "# possible to write to the file via the file attribute.\n",
    "\n",
    "\n",
    "class Logfile:\n",
    "    def __init__(self, filename):\n",
    "        self.filename = filename\n",
    "        self.file = None\n",
    "        \n",
    "    def open_file(self):\n",
    "        self.file = open(self.filename, 'w')\n",
    "        \n",
    "    def write_row(self, row):\n",
    "        self.file.write(f'{row.strip()}\\n')\n",
    "        \n",
    "    def close_file(self):\n",
    "        self.file.close()\n",
    "        \n",
    "\n",
    "        \n",
    "l1 = Logfile('log1.txt')\n",
    "l1.open_file()\n",
    "\n",
    "for row in ['abc', 'efg', 'hij']:\n",
    "    l1.write_row(row)\n",
    "    \n",
    "l1.close_file()\n",
    "\n",
    "l2 = Logfile('log2.txt')\n",
    "l2.open_file()\n",
    "\n",
    "for row in ['ABC', 'EFG', 'DHIJ']:\n",
    "    l2.write_row(row)\n",
    "    \n",
    "l2.close_file()"
   ]
  },
  {
   "cell_type": "code",
   "execution_count": 158,
   "id": "88b17b4c",
   "metadata": {},
   "outputs": [
    {
     "name": "stdout",
     "output_type": "stream",
     "text": [
      "Lisa Aguilar; 3.88\n",
      "Amber Aguilar; 1.81\n",
      "Ashley Aguilar; 1.61\n",
      "Samuel Anderson; 2.62\n",
      "Kayla Baldwin; 2.76\n",
      "Samantha Barr; 3.5\n",
      "Christina Bowman; 2.65\n",
      "Sarah Brown; 2.53\n",
      "Robert Burnett; 1.83\n",
      "Andrew Burton; 2.15\n",
      "David Bush; 1.94\n",
      "Brandon Butler; 3.83\n",
      "Douglas Cameron; 2.35\n",
      "Raymond Christian; 1.67\n",
      "Michelle Church; 3.75\n",
      "Joel Conway; 3.23\n",
      "Kevin Cooper; 2.35\n",
      "Ellen Cortez; 3.43\n",
      "Brandon Crane; 3.89\n",
      "Jacob Cummings; 3.41\n",
      "Ashley Davenport; 2.0\n",
      "Anthony Davis; 3.48\n",
      "Madison Dunn; 3.11\n",
      "Sarah Edwards; 3.31\n",
      "Andrew Erickson; 2.07\n",
      "Raymond Fisher; 3.25\n",
      "Erica Fleming; 1.52\n",
      "Brian Franklin; 3.0\n",
      "Michael Fry; 2.27\n",
      "Colleen Gomez; 2.22\n",
      "Steven Gordon; 2.02\n",
      "Dorothy Graves; 2.12\n",
      "Troy Griffith; 2.07\n",
      "Miguel Guerra; 2.04\n",
      "Justin Guerrero; 3.28\n",
      "Laura Haley; 2.98\n",
      "Sophia Haley; 2.75\n",
      "Meagan Harrell; 3.54\n",
      "Judith Harris; 1.83\n",
      "Ronald Harris; 1.55\n",
      "Rebecca Harrison; 3.64\n",
      "Sarah Hernandez; 2.02\n",
      "Patricia Hess; 3.1\n",
      "Christopher Ho; 3.0\n",
      "Brian Holland; 2.44\n",
      "Kelly Holmes; 2.13\n",
      "Carol Howell; 2.63\n",
      "Tommy Hull; 3.0\n",
      "Kyle Humphrey; 3.81\n",
      "Amy Hunter; 3.47\n",
      "Elizabeth Jackson; 2.4\n",
      "Mark Jackson; 3.48\n",
      "Lisa James; 2.82\n",
      "Ashley James; 2.62\n",
      "Christine Johnson; 3.65\n",
      "Rachel Jones; 2.86\n",
      "Gregory Jones; 3.38\n",
      "Matthew Jones; 2.49\n",
      "Tracy Lee; 2.29\n",
      "Karen Lee; 1.95\n",
      "Carrie Lewis; 2.87\n",
      "Edward Lopez; 1.86\n",
      "Hannah Macias; 3.76\n",
      "Monica Mann; 3.36\n",
      "Richard Matthews; 1.93\n",
      "Emily Mccarthy; 2.96\n",
      "Steven Mcgee; 2.0\n",
      "Evelyn Mendez; 1.54\n",
      "Phyllis Miller; 2.61\n",
      "Johnny Mitchell; 1.65\n",
      "Tanya Montgomery; 1.63\n",
      "Mary Moon; 3.62\n",
      "Howard Moore; 2.7\n",
      "Richard Nelson; 2.78\n",
      "Jon Perkins; 3.5\n",
      "Amy Perry; 2.87\n",
      "Jamie Peters; 3.38\n",
      "Jennifer Pratt; 2.87\n",
      "Thomas Roberts; 3.64\n",
      "Richard Rodriguez; 2.85\n",
      "Ann Rodriguez; 2.58\n",
      "Kristy Rowland; 3.46\n",
      "Ashley Shaw; 2.83\n",
      "Walter Sosa; 2.62\n",
      "Jasmin Stephens; 2.63\n",
      "Christina Stewart; 3.74\n",
      "Jason Stuart; 2.0\n",
      "Abigail Thomas; 2.61\n",
      "Ana Torres; 3.14\n",
      "Lauren Torres; 3.69\n",
      "Mariah Tucker; 3.11\n",
      "Jennifer Vazquez; 1.5\n",
      "Julie Weaver; 3.16\n",
      "Rebecca Weaver; 3.66\n",
      "Jason Weber; 2.39\n",
      "Tammy Williams; 3.21\n",
      "Jonathan Williams; 1.96\n",
      "Jasmine Williams; 1.7\n",
      "Heather Wright; 2.38\n",
      "Danielle Young; 1.71\n",
      "Jennifer Vazquez; 1.5\n",
      "Erica Fleming; 1.52\n",
      "Evelyn Mendez; 1.54\n",
      "Ronald Harris; 1.55\n",
      "Ashley Aguilar; 1.61\n",
      "Tanya Montgomery; 1.63\n",
      "Johnny Mitchell; 1.65\n",
      "Raymond Christian; 1.67\n",
      "Jasmine Williams; 1.7\n",
      "Danielle Young; 1.71\n",
      "Amber Aguilar; 1.81\n",
      "Judith Harris; 1.83\n",
      "Robert Burnett; 1.83\n",
      "Edward Lopez; 1.86\n",
      "Richard Matthews; 1.93\n",
      "David Bush; 1.94\n",
      "Karen Lee; 1.95\n",
      "Jonathan Williams; 1.96\n",
      "Ashley Davenport; 2.0\n",
      "Steven Mcgee; 2.0\n",
      "Jason Stuart; 2.0\n",
      "Sarah Hernandez; 2.02\n",
      "Steven Gordon; 2.02\n",
      "Miguel Guerra; 2.04\n",
      "Troy Griffith; 2.07\n",
      "Andrew Erickson; 2.07\n",
      "Dorothy Graves; 2.12\n",
      "Kelly Holmes; 2.13\n",
      "Andrew Burton; 2.15\n",
      "Colleen Gomez; 2.22\n",
      "Michael Fry; 2.27\n",
      "Tracy Lee; 2.29\n",
      "Douglas Cameron; 2.35\n",
      "Kevin Cooper; 2.35\n",
      "Heather Wright; 2.38\n",
      "Jason Weber; 2.39\n",
      "Elizabeth Jackson; 2.4\n",
      "Brian Holland; 2.44\n",
      "Matthew Jones; 2.49\n",
      "Sarah Brown; 2.53\n",
      "Ann Rodriguez; 2.58\n",
      "Abigail Thomas; 2.61\n",
      "Phyllis Miller; 2.61\n",
      "Samuel Anderson; 2.62\n",
      "Walter Sosa; 2.62\n",
      "Ashley James; 2.62\n",
      "Carol Howell; 2.63\n",
      "Jasmin Stephens; 2.63\n",
      "Christina Bowman; 2.65\n",
      "Howard Moore; 2.7\n",
      "Sophia Haley; 2.75\n",
      "Kayla Baldwin; 2.76\n",
      "Richard Nelson; 2.78\n",
      "Lisa James; 2.82\n",
      "Ashley Shaw; 2.83\n",
      "Richard Rodriguez; 2.85\n",
      "Rachel Jones; 2.86\n",
      "Jennifer Pratt; 2.87\n",
      "Amy Perry; 2.87\n",
      "Carrie Lewis; 2.87\n",
      "Emily Mccarthy; 2.96\n",
      "Laura Haley; 2.98\n",
      "Tommy Hull; 3.0\n",
      "Christopher Ho; 3.0\n",
      "Brian Franklin; 3.0\n",
      "Patricia Hess; 3.1\n",
      "Mariah Tucker; 3.11\n",
      "Madison Dunn; 3.11\n",
      "Ana Torres; 3.14\n",
      "Julie Weaver; 3.16\n",
      "Tammy Williams; 3.21\n",
      "Joel Conway; 3.23\n",
      "Raymond Fisher; 3.25\n",
      "Justin Guerrero; 3.28\n",
      "Sarah Edwards; 3.31\n",
      "Monica Mann; 3.36\n",
      "Gregory Jones; 3.38\n",
      "Jamie Peters; 3.38\n",
      "Jacob Cummings; 3.41\n",
      "Ellen Cortez; 3.43\n",
      "Kristy Rowland; 3.46\n",
      "Amy Hunter; 3.47\n",
      "Mark Jackson; 3.48\n",
      "Anthony Davis; 3.48\n",
      "Samantha Barr; 3.5\n",
      "Jon Perkins; 3.5\n",
      "Meagan Harrell; 3.54\n",
      "Mary Moon; 3.62\n",
      "Thomas Roberts; 3.64\n",
      "Rebecca Harrison; 3.64\n",
      "Christine Johnson; 3.65\n",
      "Rebecca Weaver; 3.66\n",
      "Lauren Torres; 3.69\n",
      "Christina Stewart; 3.74\n",
      "Michelle Church; 3.75\n",
      "Hannah Macias; 3.76\n",
      "Kyle Humphrey; 3.81\n",
      "Brandon Butler; 3.83\n",
      "Lisa Aguilar; 3.88\n",
      "Brandon Crane; 3.89\n"
     ]
    }
   ],
   "source": [
    "class Person:\n",
    "    def __init__(self, first_name, last_name):\n",
    "        self.first_name = first_name\n",
    "        self.last_name = last_name\n",
    "\n",
    "    def __repr__(self):\n",
    "        return f'{self.first_name} {self.last_name}; {self.get_gpa()}'\n",
    "\n",
    "class Student(Person):\n",
    "    def __init__(self, first_name, last_name, credit_hours, q_point):\n",
    "        super().__init__(first_name, last_name)\n",
    "        self.credit_hours = credit_hours\n",
    "        self.q_point = q_point\n",
    "        \n",
    "\n",
    "    def get_gpa(self):\n",
    "        return round(self.q_point / self.credit_hours, 2)\n",
    "    \n",
    "    \n",
    "filename = 'data.tsv'\n",
    "\n",
    "students = []\n",
    "\n",
    "with open(filename) as file:\n",
    "    for line in file:\n",
    "        if not line.strip():\n",
    "            continue\n",
    "        \n",
    "        name, credits, q_points = line.strip().split('\\t')\n",
    "        last_name, first_name = name.split(',')\n",
    "        first_name = first_name.strip()\n",
    "        \n",
    "        student = Student(first_name, last_name, int(credits), int(q_points))\n",
    "        students.append(student)\n",
    "     \n",
    "\n",
    "for ele in sorted(students, key=lambda student: student.last_name):\n",
    "    print(ele)\n",
    "    \n",
    "    \n"
   ]
  },
  {
   "cell_type": "code",
   "execution_count": 159,
   "id": "bebad46b",
   "metadata": {},
   "outputs": [
    {
     "name": "stdout",
     "output_type": "stream",
     "text": [
      "Jennifer Vazquez; 1.5\n",
      "Erica Fleming; 1.52\n",
      "Evelyn Mendez; 1.54\n",
      "Ronald Harris; 1.55\n",
      "Ashley Aguilar; 1.61\n",
      "Tanya Montgomery; 1.63\n",
      "Johnny Mitchell; 1.65\n",
      "Raymond Christian; 1.67\n",
      "Jasmine Williams; 1.7\n",
      "Danielle Young; 1.71\n",
      "Amber Aguilar; 1.81\n",
      "Judith Harris; 1.83\n",
      "Robert Burnett; 1.83\n",
      "Edward Lopez; 1.86\n",
      "Richard Matthews; 1.93\n",
      "David Bush; 1.94\n",
      "Karen Lee; 1.95\n",
      "Jonathan Williams; 1.96\n",
      "Ashley Davenport; 2.0\n",
      "Steven Mcgee; 2.0\n",
      "Jason Stuart; 2.0\n",
      "Sarah Hernandez; 2.02\n",
      "Steven Gordon; 2.02\n",
      "Miguel Guerra; 2.04\n",
      "Troy Griffith; 2.07\n",
      "Andrew Erickson; 2.07\n",
      "Dorothy Graves; 2.12\n",
      "Kelly Holmes; 2.13\n",
      "Andrew Burton; 2.15\n",
      "Colleen Gomez; 2.22\n",
      "Michael Fry; 2.27\n",
      "Tracy Lee; 2.29\n",
      "Douglas Cameron; 2.35\n",
      "Kevin Cooper; 2.35\n",
      "Heather Wright; 2.38\n",
      "Jason Weber; 2.39\n",
      "Elizabeth Jackson; 2.4\n",
      "Brian Holland; 2.44\n",
      "Matthew Jones; 2.49\n",
      "Sarah Brown; 2.53\n",
      "Ann Rodriguez; 2.58\n",
      "Abigail Thomas; 2.61\n",
      "Phyllis Miller; 2.61\n",
      "Samuel Anderson; 2.62\n",
      "Walter Sosa; 2.62\n",
      "Ashley James; 2.62\n",
      "Carol Howell; 2.63\n",
      "Jasmin Stephens; 2.63\n",
      "Christina Bowman; 2.65\n",
      "Howard Moore; 2.7\n",
      "Sophia Haley; 2.75\n",
      "Kayla Baldwin; 2.76\n",
      "Richard Nelson; 2.78\n",
      "Lisa James; 2.82\n",
      "Ashley Shaw; 2.83\n",
      "Richard Rodriguez; 2.85\n",
      "Rachel Jones; 2.86\n",
      "Jennifer Pratt; 2.87\n",
      "Amy Perry; 2.87\n",
      "Carrie Lewis; 2.87\n",
      "Emily Mccarthy; 2.96\n",
      "Laura Haley; 2.98\n",
      "Tommy Hull; 3.0\n",
      "Christopher Ho; 3.0\n",
      "Brian Franklin; 3.0\n",
      "Patricia Hess; 3.1\n",
      "Mariah Tucker; 3.11\n",
      "Madison Dunn; 3.11\n",
      "Ana Torres; 3.14\n",
      "Julie Weaver; 3.16\n",
      "Tammy Williams; 3.21\n",
      "Joel Conway; 3.23\n",
      "Raymond Fisher; 3.25\n",
      "Justin Guerrero; 3.28\n",
      "Sarah Edwards; 3.31\n",
      "Monica Mann; 3.36\n",
      "Gregory Jones; 3.38\n",
      "Jamie Peters; 3.38\n",
      "Jacob Cummings; 3.41\n",
      "Ellen Cortez; 3.43\n",
      "Kristy Rowland; 3.46\n",
      "Amy Hunter; 3.47\n",
      "Mark Jackson; 3.48\n",
      "Anthony Davis; 3.48\n",
      "Samantha Barr; 3.5\n",
      "Jon Perkins; 3.5\n",
      "Meagan Harrell; 3.54\n",
      "Mary Moon; 3.62\n",
      "Thomas Roberts; 3.64\n",
      "Rebecca Harrison; 3.64\n",
      "Christine Johnson; 3.65\n",
      "Rebecca Weaver; 3.66\n",
      "Lauren Torres; 3.69\n",
      "Christina Stewart; 3.74\n",
      "Michelle Church; 3.75\n",
      "Hannah Macias; 3.76\n",
      "Kyle Humphrey; 3.81\n",
      "Brandon Butler; 3.83\n",
      "Lisa Aguilar; 3.88\n",
      "Brandon Crane; 3.89\n"
     ]
    }
   ],
   "source": [
    "for ele in sorted(students, key=lambda student: student.get_gpa()):\n",
    "    print(ele)"
   ]
  },
  {
   "cell_type": "code",
   "execution_count": 161,
   "id": "0ab85607",
   "metadata": {},
   "outputs": [
    {
     "name": "stdout",
     "output_type": "stream",
     "text": [
      "Jennifer Vazquez; 1.5 Brandon Crane; 3.89\n"
     ]
    }
   ],
   "source": [
    "low_gpa = students[0]\n",
    "high_gpa = students[0]\n",
    "\n",
    "for student in students[1:]:\n",
    "    if student.get_gpa() < low_gpa.get_gpa():\n",
    "        low_gpa = student\n",
    "        \n",
    "    if student.get_gpa() > high_gpa.get_gpa():\n",
    "        high_gpa = student\n",
    "        \n",
    "print(low_gpa,high_gpa )"
   ]
  },
  {
   "cell_type": "code",
   "execution_count": null,
   "id": "dd7b788b",
   "metadata": {},
   "outputs": [],
   "source": []
  }
 ],
 "metadata": {
  "kernelspec": {
   "display_name": "Python 3 (ipykernel)",
   "language": "python",
   "name": "python3"
  },
  "language_info": {
   "codemirror_mode": {
    "name": "ipython",
    "version": 3
   },
   "file_extension": ".py",
   "mimetype": "text/x-python",
   "name": "python",
   "nbconvert_exporter": "python",
   "pygments_lexer": "ipython3",
   "version": "3.8.5"
  }
 },
 "nbformat": 4,
 "nbformat_minor": 5
}
