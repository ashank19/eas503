{
 "cells": [
  {
   "cell_type": "code",
   "execution_count": 1,
   "id": "448e0295",
   "metadata": {},
   "outputs": [
    {
     "ename": "NameError",
     "evalue": "name 'sequence' is not defined",
     "output_type": "error",
     "traceback": [
      "\u001b[1;31m---------------------------------------------------------------------------\u001b[0m",
      "\u001b[1;31mNameError\u001b[0m                                 Traceback (most recent call last)",
      "\u001b[1;32m~\\AppData\\Local\\Temp/ipykernel_17060/3151630969.py\u001b[0m in \u001b[0;36m<module>\u001b[1;34m\u001b[0m\n\u001b[1;32m----> 1\u001b[1;33m \u001b[1;33m[\u001b[0m \u001b[0mf\u001b[0m\u001b[1;33m(\u001b[0m\u001b[0mele\u001b[0m\u001b[1;33m)\u001b[0m \u001b[1;32mfor\u001b[0m \u001b[0mele\u001b[0m \u001b[1;32min\u001b[0m \u001b[0msequence\u001b[0m \u001b[1;33m]\u001b[0m\u001b[1;33m\u001b[0m\u001b[1;33m\u001b[0m\u001b[0m\n\u001b[0m",
      "\u001b[1;31mNameError\u001b[0m: name 'sequence' is not defined"
     ]
    }
   ],
   "source": [
    "[ f(ele) for ele in sequence ]"
   ]
  },
  {
   "cell_type": "code",
   "execution_count": 2,
   "id": "22077888",
   "metadata": {},
   "outputs": [
    {
     "data": {
      "text/plain": [
       "[0, 1, 4, 9, 16]"
      ]
     },
     "execution_count": 2,
     "metadata": {},
     "output_type": "execute_result"
    }
   ],
   "source": [
    "sequence = range(5)\n",
    "def f(x):\n",
    "    y = x * x\n",
    "    return y\n",
    "\n",
    "my_list = []\n",
    "for ele in sequence:\n",
    "    my_list.append(f(ele))\n",
    "    \n",
    "my_list"
   ]
  },
  {
   "cell_type": "code",
   "execution_count": 3,
   "id": "a976494a",
   "metadata": {},
   "outputs": [
    {
     "data": {
      "text/plain": [
       "[0, 1, 4, 9, 16]"
      ]
     },
     "execution_count": 3,
     "metadata": {},
     "output_type": "execute_result"
    }
   ],
   "source": [
    "my_list_comp = [ f(ele) for ele in sequence ]\n",
    "\n",
    "my_list_comp"
   ]
  },
  {
   "cell_type": "code",
   "execution_count": 5,
   "id": "c7c4460e",
   "metadata": {},
   "outputs": [
    {
     "data": {
      "text/plain": [
       "[0, 1, 4, 9, 16]"
      ]
     },
     "execution_count": 5,
     "metadata": {},
     "output_type": "execute_result"
    }
   ],
   "source": [
    "my_list_comp = [ele * ele for ele in sequence ]\n",
    "my_list_comp"
   ]
  },
  {
   "cell_type": "code",
   "execution_count": 6,
   "id": "e196b485",
   "metadata": {},
   "outputs": [
    {
     "ename": "NameError",
     "evalue": "name 'condition' is not defined",
     "output_type": "error",
     "traceback": [
      "\u001b[1;31m---------------------------------------------------------------------------\u001b[0m",
      "\u001b[1;31mNameError\u001b[0m                                 Traceback (most recent call last)",
      "\u001b[1;32m~\\AppData\\Local\\Temp/ipykernel_17060/1000743995.py\u001b[0m in \u001b[0;36m<module>\u001b[1;34m\u001b[0m\n\u001b[1;32m----> 1\u001b[1;33m \u001b[1;33m[\u001b[0m \u001b[0mf\u001b[0m\u001b[1;33m(\u001b[0m\u001b[0mele\u001b[0m\u001b[1;33m)\u001b[0m \u001b[1;32mfor\u001b[0m \u001b[0mele\u001b[0m \u001b[1;32min\u001b[0m \u001b[0msequence\u001b[0m \u001b[1;32mif\u001b[0m \u001b[0mcondition\u001b[0m \u001b[1;33m]\u001b[0m\u001b[1;33m\u001b[0m\u001b[1;33m\u001b[0m\u001b[0m\n\u001b[0m",
      "\u001b[1;32m~\\AppData\\Local\\Temp/ipykernel_17060/1000743995.py\u001b[0m in \u001b[0;36m<listcomp>\u001b[1;34m(.0)\u001b[0m\n\u001b[1;32m----> 1\u001b[1;33m \u001b[1;33m[\u001b[0m \u001b[0mf\u001b[0m\u001b[1;33m(\u001b[0m\u001b[0mele\u001b[0m\u001b[1;33m)\u001b[0m \u001b[1;32mfor\u001b[0m \u001b[0mele\u001b[0m \u001b[1;32min\u001b[0m \u001b[0msequence\u001b[0m \u001b[1;32mif\u001b[0m \u001b[0mcondition\u001b[0m \u001b[1;33m]\u001b[0m\u001b[1;33m\u001b[0m\u001b[1;33m\u001b[0m\u001b[0m\n\u001b[0m",
      "\u001b[1;31mNameError\u001b[0m: name 'condition' is not defined"
     ]
    }
   ],
   "source": [
    "[ f(ele) for ele in sequence if condition ]"
   ]
  },
  {
   "cell_type": "code",
   "execution_count": 7,
   "id": "812e9b01",
   "metadata": {},
   "outputs": [
    {
     "data": {
      "text/plain": [
       "[2, 4, 6, 8, 10, 12, 14, 16, 18, 20]"
      ]
     },
     "execution_count": 7,
     "metadata": {},
     "output_type": "execute_result"
    }
   ],
   "source": [
    "sequence = range(1,21)\n",
    "\n",
    "even = [ number for number in sequence if number % 2 == 0]\n",
    "even"
   ]
  },
  {
   "cell_type": "code",
   "execution_count": 8,
   "id": "a2e6f411",
   "metadata": {},
   "outputs": [
    {
     "data": {
      "text/plain": [
       "[1, 3, 5, 7, 9, 11, 13, 15, 17, 19]"
      ]
     },
     "execution_count": 8,
     "metadata": {},
     "output_type": "execute_result"
    }
   ],
   "source": [
    "sequence = range(1,21)\n",
    "\n",
    "odd = [ number for number in sequence if number % 2 != 0]\n",
    "odd"
   ]
  },
  {
   "cell_type": "code",
   "execution_count": 9,
   "id": "20b4072d",
   "metadata": {},
   "outputs": [
    {
     "ename": "NameError",
     "evalue": "name 'condition' is not defined",
     "output_type": "error",
     "traceback": [
      "\u001b[1;31m---------------------------------------------------------------------------\u001b[0m",
      "\u001b[1;31mNameError\u001b[0m                                 Traceback (most recent call last)",
      "\u001b[1;32m~\\AppData\\Local\\Temp/ipykernel_17060/4002114161.py\u001b[0m in \u001b[0;36m<module>\u001b[1;34m\u001b[0m\n\u001b[1;32m----> 1\u001b[1;33m \u001b[1;33m[\u001b[0m \u001b[0mf\u001b[0m\u001b[1;33m(\u001b[0m\u001b[0mele\u001b[0m\u001b[1;33m)\u001b[0m \u001b[1;32mif\u001b[0m \u001b[0mcondition\u001b[0m \u001b[1;32melse\u001b[0m \u001b[0mg\u001b[0m\u001b[1;33m(\u001b[0m\u001b[0mele\u001b[0m\u001b[1;33m)\u001b[0m \u001b[1;32mfor\u001b[0m \u001b[0mele\u001b[0m \u001b[1;32min\u001b[0m \u001b[0msequence\u001b[0m \u001b[1;33m]\u001b[0m\u001b[1;33m\u001b[0m\u001b[1;33m\u001b[0m\u001b[0m\n\u001b[0m",
      "\u001b[1;32m~\\AppData\\Local\\Temp/ipykernel_17060/4002114161.py\u001b[0m in \u001b[0;36m<listcomp>\u001b[1;34m(.0)\u001b[0m\n\u001b[1;32m----> 1\u001b[1;33m \u001b[1;33m[\u001b[0m \u001b[0mf\u001b[0m\u001b[1;33m(\u001b[0m\u001b[0mele\u001b[0m\u001b[1;33m)\u001b[0m \u001b[1;32mif\u001b[0m \u001b[0mcondition\u001b[0m \u001b[1;32melse\u001b[0m \u001b[0mg\u001b[0m\u001b[1;33m(\u001b[0m\u001b[0mele\u001b[0m\u001b[1;33m)\u001b[0m \u001b[1;32mfor\u001b[0m \u001b[0mele\u001b[0m \u001b[1;32min\u001b[0m \u001b[0msequence\u001b[0m \u001b[1;33m]\u001b[0m\u001b[1;33m\u001b[0m\u001b[1;33m\u001b[0m\u001b[0m\n\u001b[0m",
      "\u001b[1;31mNameError\u001b[0m: name 'condition' is not defined"
     ]
    }
   ],
   "source": [
    "[ f(ele) if condition else g(ele) for ele in sequence ]"
   ]
  },
  {
   "cell_type": "code",
   "execution_count": 13,
   "id": "0091d88d",
   "metadata": {},
   "outputs": [
    {
     "data": {
      "text/plain": [
       "[(1, 1),\n",
       " (2, 4),\n",
       " (3, 27),\n",
       " (4, 16),\n",
       " (5, 125),\n",
       " (6, 36),\n",
       " (7, 343),\n",
       " (8, 64),\n",
       " (9, 729),\n",
       " (10, 100),\n",
       " (11, 1331),\n",
       " (12, 144),\n",
       " (13, 2197),\n",
       " (14, 196),\n",
       " (15, 3375),\n",
       " (16, 256),\n",
       " (17, 4913),\n",
       " (18, 324),\n",
       " (19, 6859),\n",
       " (20, 400)]"
      ]
     },
     "execution_count": 13,
     "metadata": {},
     "output_type": "execute_result"
    }
   ],
   "source": [
    "def square(x):\n",
    "    return x * x\n",
    "\n",
    "def cube(x):\n",
    "    return x * x * x\n",
    " \n",
    "sequence = range(1,21)\n",
    "\n",
    "result = [ (number, square(number)) if number % 2 == 0 else (number, cube(number)) for number in sequence]\n",
    "result"
   ]
  },
  {
   "cell_type": "code",
   "execution_count": 14,
   "id": "f3be3a3e",
   "metadata": {},
   "outputs": [
    {
     "data": {
      "text/plain": [
       "[1, 4, 9]"
      ]
     },
     "execution_count": 14,
     "metadata": {},
     "output_type": "execute_result"
    }
   ],
   "source": [
    " # list_comp_ex1.py\n",
    "# Re-write the following code to use List Comprehension\n",
    "# my_list = [1, 2, 3]\n",
    "# new_list = []\n",
    "# for ele in my_list:\n",
    "#     tmp = ele * ele\n",
    "#     new_list.append(tmp)\n",
    "\n",
    "my_list = [1, 2, 3]\n",
    "result = [ ele*ele for ele in my_list]\n",
    "result"
   ]
  },
  {
   "cell_type": "code",
   "execution_count": 15,
   "id": "1a8ae2bd",
   "metadata": {},
   "outputs": [
    {
     "data": {
      "text/plain": [
       "[10, 20, 30]"
      ]
     },
     "execution_count": 15,
     "metadata": {},
     "output_type": "execute_result"
    }
   ],
   "source": [
    "# list_comp_ex2.py\n",
    "# Re-write the following code to use List Comprehension\n",
    "# # Multiply each number by 10\n",
    "\n",
    "# my_list = [1, 2, 3]\n",
    "# new_list = []\n",
    "# for ele in my_list:\n",
    "#     tmp = ele * 10\n",
    "#     new_list.append(tmp)\n",
    "\n",
    "\n",
    "my_list = [1, 2, 3]\n",
    "result = [ ele*10 for ele in my_list]\n",
    "result"
   ]
  },
  {
   "cell_type": "code",
   "execution_count": 18,
   "id": "ce22f7ee",
   "metadata": {},
   "outputs": [
    {
     "data": {
      "text/plain": [
       "'BUFFALO'"
      ]
     },
     "execution_count": 18,
     "metadata": {},
     "output_type": "execute_result"
    }
   ],
   "source": [
    "# list_comp_ex3.py\n",
    "# Upper case each letter in animal variable\n",
    "\n",
    "# # Works with any type of sequence\n",
    "\n",
    "animal = 'buffalo'\n",
    "\n",
    "result = [ char.upper() for char in animal]\n",
    "result = ''.join(result)\n",
    "result"
   ]
  },
  {
   "cell_type": "code",
   "execution_count": 19,
   "id": "23f34413",
   "metadata": {},
   "outputs": [
    {
     "data": {
      "text/plain": [
       "'BUFFALO'"
      ]
     },
     "execution_count": 19,
     "metadata": {},
     "output_type": "execute_result"
    }
   ],
   "source": [
    "animal.upper()"
   ]
  },
  {
   "cell_type": "code",
   "execution_count": 20,
   "id": "c1c583c1",
   "metadata": {},
   "outputs": [
    {
     "data": {
      "text/plain": [
       "['John', 'Jane', 'Doe']"
      ]
     },
     "execution_count": 20,
     "metadata": {},
     "output_type": "execute_result"
    }
   ],
   "source": [
    "students = ['john', 'jane', 'doe']\n",
    "\n",
    "result = [ student.title() for student in students]\n",
    "result"
   ]
  },
  {
   "cell_type": "code",
   "execution_count": 21,
   "id": "4a26f53c",
   "metadata": {},
   "outputs": [
    {
     "data": {
      "text/plain": [
       "[False, False, False]"
      ]
     },
     "execution_count": 21,
     "metadata": {},
     "output_type": "execute_result"
    }
   ],
   "source": [
    "my_list = [0, '', []]\n",
    "\n",
    "result = [ True if ele else False for ele in my_list ]\n",
    "result"
   ]
  },
  {
   "cell_type": "code",
   "execution_count": 24,
   "id": "97d3d981",
   "metadata": {},
   "outputs": [
    {
     "data": {
      "text/plain": [
       "[(0, False),\n",
       " (0.0, False),\n",
       " ('0', True),\n",
       " ('', False),\n",
       " ([], False),\n",
       " ((), False),\n",
       " ({}, False),\n",
       " (1, True),\n",
       " (3.14, True),\n",
       " (True, True),\n",
       " (False, False),\n",
       " (None, False)]"
      ]
     },
     "execution_count": 24,
     "metadata": {},
     "output_type": "execute_result"
    }
   ],
   "source": [
    "my_list = [0, 0.0, '0', '', [], (), {}, 1, 3.14, True, False, None]\n",
    "\n",
    "result = [ (ele, True) if ele else (ele, False) for ele in my_list ]\n",
    "result\n"
   ]
  },
  {
   "cell_type": "code",
   "execution_count": 25,
   "id": "07a8043a",
   "metadata": {},
   "outputs": [
    {
     "data": {
      "text/plain": [
       "['0', '1', '2', '3', '4', '5']"
      ]
     },
     "execution_count": 25,
     "metadata": {},
     "output_type": "execute_result"
    }
   ],
   "source": [
    "my_list = range(6)\n",
    "\n",
    "result = [ str(number) for number in my_list]\n",
    "result"
   ]
  },
  {
   "cell_type": "code",
   "execution_count": 26,
   "id": "71d9452e",
   "metadata": {},
   "outputs": [
    {
     "data": {
      "text/plain": [
       "[0, 1, 2, 27, 4, 125, 6, 343, 8, 729]"
      ]
     },
     "execution_count": 26,
     "metadata": {},
     "output_type": "execute_result"
    }
   ],
   "source": [
    "numbers = range(10)\n",
    "\n",
    "result = [ number if number % 2 == 0 else number**3 for number in numbers ]\n",
    "result"
   ]
  },
  {
   "cell_type": "code",
   "execution_count": 30,
   "id": "f452bf68",
   "metadata": {},
   "outputs": [
    {
     "data": {
      "text/plain": [
       "'rlly wnt t g t wRK'"
      ]
     },
     "execution_count": 30,
     "metadata": {},
     "output_type": "execute_result"
    }
   ],
   "source": [
    "sentence = 'I rEAlly want to gO to woRK'\n",
    "vowels = ['a', 'e', 'i', 'o', 'u']\n",
    "\n",
    "result = ''.join([ char for char in sentence if char.lower() not in vowels]).strip()\n",
    "result"
   ]
  },
  {
   "cell_type": "code",
   "execution_count": 31,
   "id": "7cd20412",
   "metadata": {},
   "outputs": [
    {
     "data": {
      "text/plain": [
       "{0, 2, 4, 6, 8}"
      ]
     },
     "execution_count": 31,
     "metadata": {},
     "output_type": "execute_result"
    }
   ],
   "source": [
    "A = {0, 2,    4, 6, 8};\n",
    "B = {1, 2, 3, 4, 5};\n",
    "\n",
    "A"
   ]
  },
  {
   "cell_type": "code",
   "execution_count": 35,
   "id": "18ec8775",
   "metadata": {},
   "outputs": [],
   "source": [
    "result = A | B\n"
   ]
  },
  {
   "cell_type": "code",
   "execution_count": 36,
   "id": "9ea11d47",
   "metadata": {},
   "outputs": [
    {
     "data": {
      "text/plain": [
       "[0, 1, 2, 3, 4, 5, 6, 8]"
      ]
     },
     "execution_count": 36,
     "metadata": {},
     "output_type": "execute_result"
    }
   ],
   "source": [
    "list(result)"
   ]
  },
  {
   "cell_type": "code",
   "execution_count": 37,
   "id": "70d7869d",
   "metadata": {},
   "outputs": [
    {
     "data": {
      "text/plain": [
       "{2, 4}"
      ]
     },
     "execution_count": 37,
     "metadata": {},
     "output_type": "execute_result"
    }
   ],
   "source": [
    "A & B"
   ]
  },
  {
   "cell_type": "code",
   "execution_count": 38,
   "id": "f9ecf805",
   "metadata": {},
   "outputs": [
    {
     "data": {
      "text/plain": [
       "{0, 6, 8}"
      ]
     },
     "execution_count": 38,
     "metadata": {},
     "output_type": "execute_result"
    }
   ],
   "source": [
    "A - B"
   ]
  },
  {
   "cell_type": "code",
   "execution_count": 39,
   "id": "9c40c179",
   "metadata": {},
   "outputs": [
    {
     "data": {
      "text/plain": [
       "{1, 3, 5}"
      ]
     },
     "execution_count": 39,
     "metadata": {},
     "output_type": "execute_result"
    }
   ],
   "source": [
    "B - A"
   ]
  },
  {
   "cell_type": "code",
   "execution_count": 42,
   "id": "5c6cac33",
   "metadata": {},
   "outputs": [],
   "source": [
    "my_list = [1, 1, 2, 3]"
   ]
  },
  {
   "cell_type": "code",
   "execution_count": 43,
   "id": "234abb5e",
   "metadata": {},
   "outputs": [
    {
     "data": {
      "text/plain": [
       "[1, 2, 3]"
      ]
     },
     "execution_count": 43,
     "metadata": {},
     "output_type": "execute_result"
    }
   ],
   "source": [
    "new_list = []\n",
    "for ele in my_list:\n",
    "    if ele not in new_list:\n",
    "        new_list.append(ele)\n",
    "new_list"
   ]
  },
  {
   "cell_type": "code",
   "execution_count": 44,
   "id": "b7d38027",
   "metadata": {},
   "outputs": [
    {
     "data": {
      "text/plain": [
       "{1, 2, 3}"
      ]
     },
     "execution_count": 44,
     "metadata": {},
     "output_type": "execute_result"
    }
   ],
   "source": [
    "set(my_list)"
   ]
  },
  {
   "cell_type": "code",
   "execution_count": 46,
   "id": "ac0bcfd5",
   "metadata": {},
   "outputs": [
    {
     "data": {
      "text/plain": [
       "[1, 2, 3]"
      ]
     },
     "execution_count": 46,
     "metadata": {},
     "output_type": "execute_result"
    }
   ],
   "source": [
    "my_list_set = list(set(my_list))\n",
    "my_list_set"
   ]
  },
  {
   "cell_type": "code",
   "execution_count": 47,
   "id": "41c69c67",
   "metadata": {},
   "outputs": [
    {
     "data": {
      "text/plain": [
       "{1, 2, 3}"
      ]
     },
     "execution_count": 47,
     "metadata": {},
     "output_type": "execute_result"
    }
   ],
   "source": [
    "my_set = set(my_list)\n",
    "my_set"
   ]
  },
  {
   "cell_type": "code",
   "execution_count": 49,
   "id": "78a574c9",
   "metadata": {},
   "outputs": [
    {
     "data": {
      "text/plain": [
       "{1, 2, 3}"
      ]
     },
     "execution_count": 49,
     "metadata": {},
     "output_type": "execute_result"
    }
   ],
   "source": [
    "my_set.add(1)\n",
    "my_set"
   ]
  },
  {
   "cell_type": "code",
   "execution_count": 50,
   "id": "c6f674f1",
   "metadata": {},
   "outputs": [
    {
     "data": {
      "text/plain": [
       "{1, 2, 3, 4}"
      ]
     },
     "execution_count": 50,
     "metadata": {},
     "output_type": "execute_result"
    }
   ],
   "source": [
    "my_set.add(4)\n",
    "my_set"
   ]
  },
  {
   "cell_type": "code",
   "execution_count": null,
   "id": "edbd509d",
   "metadata": {},
   "outputs": [],
   "source": [
    "my_set."
   ]
  }
 ],
 "metadata": {
  "kernelspec": {
   "display_name": "Python 3 (ipykernel)",
   "language": "python",
   "name": "python3"
  },
  "language_info": {
   "codemirror_mode": {
    "name": "ipython",
    "version": 3
   },
   "file_extension": ".py",
   "mimetype": "text/x-python",
   "name": "python",
   "nbconvert_exporter": "python",
   "pygments_lexer": "ipython3",
   "version": "3.8.5"
  }
 },
 "nbformat": 4,
 "nbformat_minor": 5
}
