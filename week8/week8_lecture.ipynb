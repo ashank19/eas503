{
 "cells": [
  {
   "cell_type": "code",
   "execution_count": 3,
   "id": "5ede3151",
   "metadata": {},
   "outputs": [],
   "source": [
    "result = ['student1: B',\n",
    "'student2: B',\n",
    "'student3: B',\n",
    "'student4: A',\n",
    "'student5: B',\n",
    "'student6: B',\n",
    "'student7: D',\n",
    "'student8: C',\n",
    "'student9: B',\n",
    "'student10: A',\n",
    "'student11: C']\n",
    "\n",
    "output = ['student1: B', 'student2: B', 'student3: B', 'student4: B', 'student5: B', 'student6: B', 'student7: C', 'student8: C', 'student9: B', 'student10: C', 'student11: C', ]"
   ]
  },
  {
   "cell_type": "code",
   "execution_count": 4,
   "id": "2e36a9fc",
   "metadata": {},
   "outputs": [
    {
     "data": {
      "text/plain": [
       "False"
      ]
     },
     "execution_count": 4,
     "metadata": {},
     "output_type": "execute_result"
    }
   ],
   "source": [
    "result == output"
   ]
  },
  {
   "cell_type": "code",
   "execution_count": 6,
   "id": "a5659961",
   "metadata": {},
   "outputs": [
    {
     "name": "stdout",
     "output_type": "stream",
     "text": [
      "3 student4: A student4: B\n",
      "6 student7: D student7: C\n",
      "9 student10: A student10: C\n"
     ]
    }
   ],
   "source": [
    "for idx, value in enumerate(result):\n",
    "    if value != output[idx]:\n",
    "        print(idx, value, output[idx])"
   ]
  },
  {
   "cell_type": "code",
   "execution_count": 7,
   "id": "2ee410d5",
   "metadata": {},
   "outputs": [
    {
     "name": "stdout",
     "output_type": "stream",
     "text": [
      "3 student4: A student4: B\n",
      "6 student7: D student7: C\n",
      "9 student10: A student10: C\n"
     ]
    }
   ],
   "source": [
    "for idx in range(len(result)):\n",
    "    if result[idx] != output[idx]:\n",
    "        print(idx, result[idx], output[idx])"
   ]
  },
  {
   "cell_type": "code",
   "execution_count": null,
   "id": "f3c99a08",
   "metadata": {},
   "outputs": [],
   "source": [
    "class Person:\n",
    "    def __init__(self, first_name, last_name):\n",
    "        self.first_name = first_name,\n",
    "        self.last_name = last_name\n",
    "        \n"
   ]
  },
  {
   "cell_type": "code",
   "execution_count": 10,
   "id": "dcdc2034",
   "metadata": {},
   "outputs": [],
   "source": [
    "from abc import ABC, abstractmethod\n",
    "\n",
    "\n",
    "class Employee(ABC):\n",
    "    def __init__(self, first_name, last_name, ssn):\n",
    "        self.first_name = first_name\n",
    "        self.last_name = last_name\n",
    "        self.ssn = ssn\n",
    "\n",
    "    @abstractmethod\n",
    "    def earnings(self):\n",
    "        pass\n",
    "\n",
    "    def __repr__(self):\n",
    "        return f'{self.first_name} {self.last_name}\\nsocial security: {self.ssn}'"
   ]
  },
  {
   "cell_type": "code",
   "execution_count": 11,
   "id": "ae5ac1b7",
   "metadata": {},
   "outputs": [],
   "source": [
    "e1 = Employee('John', 'Doe', '111-22-3333')"
   ]
  },
  {
   "cell_type": "code",
   "execution_count": 12,
   "id": "7063c0a9",
   "metadata": {},
   "outputs": [],
   "source": [
    "e1.earnings()\n"
   ]
  },
  {
   "cell_type": "code",
   "execution_count": 13,
   "id": "5747aa22",
   "metadata": {},
   "outputs": [
    {
     "data": {
      "text/plain": [
       "John Doe\n",
       "social security: 111-22-3333"
      ]
     },
     "execution_count": 13,
     "metadata": {},
     "output_type": "execute_result"
    }
   ],
   "source": [
    "e1"
   ]
  },
  {
   "cell_type": "code",
   "execution_count": 15,
   "id": "6fb5a780",
   "metadata": {},
   "outputs": [],
   "source": [
    "class SalariedEmployee(Employee):\n",
    "    def __init__(self, first_name, last_name, ssn, salary):\n",
    "        super().__init__(first_name, last_name, ssn)\n",
    "        self.weekly_salary = salary\n",
    "\n",
    "    def earnings(self):\n",
    "        return self.weekly_salary\n",
    "\n",
    "    def __repr__(self):\n",
    "        return f'salaried employee: {super().__repr__()}\\nweekly salary: ${self.weekly_salary}'\n"
   ]
  },
  {
   "cell_type": "code",
   "execution_count": 16,
   "id": "2ebd76ae",
   "metadata": {},
   "outputs": [],
   "source": [
    "salaried_employee = SalariedEmployee('John', 'Doe', '111-22-3333', 500)"
   ]
  },
  {
   "cell_type": "code",
   "execution_count": 17,
   "id": "5b667093",
   "metadata": {},
   "outputs": [
    {
     "data": {
      "text/plain": [
       "500"
      ]
     },
     "execution_count": 17,
     "metadata": {},
     "output_type": "execute_result"
    }
   ],
   "source": [
    "salaried_employee.earnings()"
   ]
  },
  {
   "cell_type": "code",
   "execution_count": 18,
   "id": "fd40e103",
   "metadata": {},
   "outputs": [
    {
     "data": {
      "text/plain": [
       "salaried employee: John Doe\n",
       "social security: 111-22-3333\n",
       "weekly salary: $500"
      ]
     },
     "execution_count": 18,
     "metadata": {},
     "output_type": "execute_result"
    }
   ],
   "source": [
    "salaried_employee"
   ]
  },
  {
   "cell_type": "code",
   "execution_count": 19,
   "id": "5f1edb5f",
   "metadata": {},
   "outputs": [],
   "source": [
    "class HourlyEmployee(Employee):\n",
    "    def __init__(self, first_name, last_name, ssn, hourly_wage, hours_worked):\n",
    "        super().__init__(first_name, last_name, ssn)\n",
    "        self.hourly_wage = hourly_wage\n",
    "        self.hours_worked = hours_worked\n",
    "\n",
    "    def earnings(self):\n",
    "        if self.hours_worked < 40:  # no overtime\n",
    "            earned = self.hourly_wage * self.hours_worked\n",
    "        else:\n",
    "            earned = 40 * self.hourly_wage + \\\n",
    "                (self.hours_worked - 40) * self.hourly_wage * 1.5\n",
    "\n",
    "        return earned\n",
    "\n",
    "    def __repr__(self):\n",
    "        return f'hourly employee: {super().__repr__()}\\nhourly wage: ${self.hourly_wage}; hours worked: {self.hours_worked}'"
   ]
  },
  {
   "cell_type": "code",
   "execution_count": 20,
   "id": "84ccc417",
   "metadata": {},
   "outputs": [],
   "source": [
    "hourly_employee = HourlyEmployee('John', 'Doe', '111-22-3333', 25, 45)"
   ]
  },
  {
   "cell_type": "code",
   "execution_count": 21,
   "id": "77f85996",
   "metadata": {},
   "outputs": [
    {
     "data": {
      "text/plain": [
       "1187.5"
      ]
     },
     "execution_count": 21,
     "metadata": {},
     "output_type": "execute_result"
    }
   ],
   "source": [
    "hourly_employee.earnings()"
   ]
  },
  {
   "cell_type": "code",
   "execution_count": 22,
   "id": "0a3f0077",
   "metadata": {},
   "outputs": [
    {
     "data": {
      "text/plain": [
       "hourly employee: John Doe\n",
       "social security: 111-22-3333\n",
       "hourly wage: $25; hours worked: 45"
      ]
     },
     "execution_count": 22,
     "metadata": {},
     "output_type": "execute_result"
    }
   ],
   "source": [
    "hourly_employee"
   ]
  },
  {
   "cell_type": "code",
   "execution_count": 23,
   "id": "86a287c5",
   "metadata": {},
   "outputs": [],
   "source": [
    "class CommissionEmployee(Employee):\n",
    "    def __init__(self, first_name, last_name, ssn, sales, rate):\n",
    "        super().__init__(first_name, last_name, ssn)\n",
    "        self.sales = sales\n",
    "        self.rate = rate\n",
    "\n",
    "    def earnings(self):\n",
    "        earned = self.sales * self.rate\n",
    "        return earned\n",
    "\n",
    "    def __repr__(self):\n",
    "        return f'commission employee: {super().__repr__()}\\ngross sales: ${self.sales}; commission rate: {self.rate}'"
   ]
  },
  {
   "cell_type": "code",
   "execution_count": 24,
   "id": "92e37080",
   "metadata": {},
   "outputs": [],
   "source": [
    "commission_employee = CommissionEmployee('John', 'Doe', '111-22-3333', 1000, 0.05)"
   ]
  },
  {
   "cell_type": "code",
   "execution_count": 25,
   "id": "469ebf71",
   "metadata": {},
   "outputs": [
    {
     "data": {
      "text/plain": [
       "50.0"
      ]
     },
     "execution_count": 25,
     "metadata": {},
     "output_type": "execute_result"
    }
   ],
   "source": [
    "commission_employee.earnings()"
   ]
  },
  {
   "cell_type": "code",
   "execution_count": 26,
   "id": "5ff9e565",
   "metadata": {},
   "outputs": [
    {
     "data": {
      "text/plain": [
       "commission employee: John Doe\n",
       "social security: 111-22-3333\n",
       "gross sales: $1000; commission rate: 0.05"
      ]
     },
     "execution_count": 26,
     "metadata": {},
     "output_type": "execute_result"
    }
   ],
   "source": [
    "commission_employee"
   ]
  },
  {
   "cell_type": "code",
   "execution_count": 27,
   "id": "e219ac3b",
   "metadata": {},
   "outputs": [],
   "source": [
    "class BasePlusCommissionEmployee(CommissionEmployee):\n",
    "    def __init__(self, first_name, last_name, ssn, sales, rate, salary):\n",
    "        super().__init__(first_name, last_name, ssn, sales, rate)\n",
    "        self.salary = salary\n",
    "\n",
    "    def earnings(self):\n",
    "        earned = self.salary + super().earnings()\n",
    "        return earned\n",
    "\n",
    "    def __repr__(self):\n",
    "        return f'base-salaried {super().__repr__()}; base-salary: ${self.salary}'"
   ]
  },
  {
   "cell_type": "code",
   "execution_count": 28,
   "id": "8083855b",
   "metadata": {},
   "outputs": [],
   "source": [
    "base_plus_commission_employee = BasePlusCommissionEmployee('John', 'Doe', '111-22-3333', 1000, 0.05, 20000)"
   ]
  },
  {
   "cell_type": "code",
   "execution_count": 29,
   "id": "0d1d20a9",
   "metadata": {},
   "outputs": [
    {
     "data": {
      "text/plain": [
       "20050.0"
      ]
     },
     "execution_count": 29,
     "metadata": {},
     "output_type": "execute_result"
    }
   ],
   "source": [
    "base_plus_commission_employee.earnings()"
   ]
  },
  {
   "cell_type": "code",
   "execution_count": 30,
   "id": "e7cdc341",
   "metadata": {},
   "outputs": [
    {
     "data": {
      "text/plain": [
       "base-salaried commission employee: John Doe\n",
       "social security: 111-22-3333\n",
       "gross sales: $1000; commission rate: 0.05; base-salary: $20000"
      ]
     },
     "execution_count": 30,
     "metadata": {},
     "output_type": "execute_result"
    }
   ],
   "source": [
    "base_plus_commission_employee"
   ]
  },
  {
   "cell_type": "code",
   "execution_count": 31,
   "id": "a8c14956",
   "metadata": {},
   "outputs": [
    {
     "name": "stdout",
     "output_type": "stream",
     "text": [
      "\n",
      "salaried employee: John Smith\n",
      "social security: 111-11-1111\n",
      "weekly salary: $800\n",
      "earned: $800\n",
      "\n",
      "hourly employee: Karen Price\n",
      "social security: 222-22-2222\n",
      "hourly wage: $16.75; hours worked: 40\n",
      "earned: $670.0\n",
      "\n",
      "commission employee: Sue Jones\n",
      "social security: 333-33-3333\n",
      "gross sales: $10000; commission rate: 0.06\n",
      "earned: $600.0\n",
      "\n",
      "base-salaried commission employee: Bob Lewis\n",
      "social security: 444-44-4444\n",
      "gross sales: $5000; commission rate: 0.04; base-salary: $300\n",
      "earned: $500.0\n"
     ]
    }
   ],
   "source": [
    "salaried_employee = SalariedEmployee('John', 'Smith', '111-11-1111', 800)\n",
    "hourly_employee = HourlyEmployee('Karen', 'Price', '222-22-2222', 16.75, 40)\n",
    "commission_employee = CommissionEmployee('Sue', 'Jones', '333-33-3333', 10000, 0.06)\n",
    "base_plus_commission_employee = BasePlusCommissionEmployee('Bob', 'Lewis', '444-44-4444', 5000, 0.04, 300)\n",
    "\n",
    "\n",
    "employees = [\n",
    "    salaried_employee, \n",
    "    hourly_employee,\n",
    "    commission_employee, \n",
    "    base_plus_commission_employee\n",
    "]\n",
    "\n",
    "for employee in employees:\n",
    "    print()\n",
    "    print(employee)\n",
    "    print(f'earned: ${employee.earnings()}')"
   ]
  },
  {
   "cell_type": "code",
   "execution_count": 32,
   "id": "b3548f47",
   "metadata": {},
   "outputs": [
    {
     "name": "stdout",
     "output_type": "stream",
     "text": [
      "\n",
      "salaried employee: John Smith\n",
      "social security: 111-11-1111\n",
      "weekly salary: $800\n",
      "earned: $800\n",
      "\n",
      "hourly employee: Karen Price\n",
      "social security: 222-22-2222\n",
      "hourly wage: $16.75; hours worked: 40\n",
      "earned: $670.0\n",
      "\n",
      "commission employee: Sue Jones\n",
      "social security: 333-33-3333\n",
      "gross sales: $10000; commission rate: 0.06\n",
      "earned: $600.0\n",
      "\n",
      "base-salaried commission employee: Bob Lewis\n",
      "social security: 444-44-4444\n",
      "gross sales: $5000; commission rate: 0.04; base-salary: $300\n",
      "new base salary with 10% increase is 330.0\n",
      "earned: $530.0\n"
     ]
    }
   ],
   "source": [
    "for employee in employees:\n",
    "    print()\n",
    "    print(employee)\n",
    "    if employee.__class__.__name__ == 'BasePlusCommissionEmployee':\n",
    "        employee.salary = 1.10 * employee.salary\n",
    "        print(f'new base salary with 10% increase is {employee.salary}')\n",
    "    print(f'earned: ${employee.earnings()}')"
   ]
  },
  {
   "cell_type": "code",
   "execution_count": 33,
   "id": "adedf564",
   "metadata": {},
   "outputs": [
    {
     "ename": "TypeError",
     "evalue": "unsupported operand type(s) for +: 'BasePlusCommissionEmployee' and 'BasePlusCommissionEmployee'",
     "output_type": "error",
     "traceback": [
      "\u001b[1;31m---------------------------------------------------------------------------\u001b[0m",
      "\u001b[1;31mTypeError\u001b[0m                                 Traceback (most recent call last)",
      "\u001b[1;32m~\\AppData\\Local\\Temp/ipykernel_7980/2875979542.py\u001b[0m in \u001b[0;36m<module>\u001b[1;34m\u001b[0m\n\u001b[1;32m----> 1\u001b[1;33m \u001b[0mbase_plus_commission_employee\u001b[0m \u001b[1;33m+\u001b[0m \u001b[0mbase_plus_commission_employee\u001b[0m\u001b[1;33m\u001b[0m\u001b[1;33m\u001b[0m\u001b[0m\n\u001b[0m",
      "\u001b[1;31mTypeError\u001b[0m: unsupported operand type(s) for +: 'BasePlusCommissionEmployee' and 'BasePlusCommissionEmployee'"
     ]
    }
   ],
   "source": [
    "base_plus_commission_employee + base_plus_commission_employee"
   ]
  },
  {
   "cell_type": "code",
   "execution_count": 34,
   "id": "8cfd386d",
   "metadata": {},
   "outputs": [
    {
     "data": {
      "text/plain": [
       "2"
      ]
     },
     "execution_count": 34,
     "metadata": {},
     "output_type": "execute_result"
    }
   ],
   "source": [
    "1 + 1"
   ]
  },
  {
   "cell_type": "code",
   "execution_count": 35,
   "id": "2a96cbf8",
   "metadata": {},
   "outputs": [
    {
     "data": {
      "text/plain": [
       "3.5"
      ]
     },
     "execution_count": 35,
     "metadata": {},
     "output_type": "execute_result"
    }
   ],
   "source": [
    "1 + 2.5"
   ]
  },
  {
   "cell_type": "code",
   "execution_count": 36,
   "id": "5aa90bae",
   "metadata": {},
   "outputs": [
    {
     "ename": "TypeError",
     "evalue": "unsupported operand type(s) for +: 'int' and 'str'",
     "output_type": "error",
     "traceback": [
      "\u001b[1;31m---------------------------------------------------------------------------\u001b[0m",
      "\u001b[1;31mTypeError\u001b[0m                                 Traceback (most recent call last)",
      "\u001b[1;32m~\\AppData\\Local\\Temp/ipykernel_7980/2877782753.py\u001b[0m in \u001b[0;36m<module>\u001b[1;34m\u001b[0m\n\u001b[1;32m----> 1\u001b[1;33m \u001b[1;36m1\u001b[0m \u001b[1;33m+\u001b[0m \u001b[1;34m'1'\u001b[0m\u001b[1;33m\u001b[0m\u001b[1;33m\u001b[0m\u001b[0m\n\u001b[0m",
      "\u001b[1;31mTypeError\u001b[0m: unsupported operand type(s) for +: 'int' and 'str'"
     ]
    }
   ],
   "source": [
    "1 + '1'"
   ]
  },
  {
   "cell_type": "code",
   "execution_count": 39,
   "id": "3da41c2b",
   "metadata": {},
   "outputs": [],
   "source": [
    "import math\n",
    "class Circle:\n",
    "\n",
    "    def __init__(self, radius):\n",
    "        self.radius = radius\n",
    "\n",
    "    def get_area(self):\n",
    "        return math.pi * self.radius**2\n",
    "\n",
    "    def __repr__(self):\n",
    "        return \"Circle with radius \" + str(self.radius)\n"
   ]
  },
  {
   "cell_type": "code",
   "execution_count": 40,
   "id": "4d6ce617",
   "metadata": {},
   "outputs": [],
   "source": [
    "c1 = Circle(10)\n",
    "c2 = Circle(15)"
   ]
  },
  {
   "cell_type": "code",
   "execution_count": 41,
   "id": "aa94b069",
   "metadata": {},
   "outputs": [
    {
     "ename": "TypeError",
     "evalue": "unsupported operand type(s) for +: 'Circle' and 'Circle'",
     "output_type": "error",
     "traceback": [
      "\u001b[1;31m---------------------------------------------------------------------------\u001b[0m",
      "\u001b[1;31mTypeError\u001b[0m                                 Traceback (most recent call last)",
      "\u001b[1;32m~\\AppData\\Local\\Temp/ipykernel_7980/3659229129.py\u001b[0m in \u001b[0;36m<module>\u001b[1;34m\u001b[0m\n\u001b[1;32m----> 1\u001b[1;33m \u001b[0mc1\u001b[0m \u001b[1;33m+\u001b[0m \u001b[0mc2\u001b[0m\u001b[1;33m\u001b[0m\u001b[1;33m\u001b[0m\u001b[0m\n\u001b[0m",
      "\u001b[1;31mTypeError\u001b[0m: unsupported operand type(s) for +: 'Circle' and 'Circle'"
     ]
    }
   ],
   "source": [
    "c1 + c2"
   ]
  },
  {
   "cell_type": "code",
   "execution_count": 46,
   "id": "2db01332",
   "metadata": {},
   "outputs": [],
   "source": [
    "import math\n",
    "class Circle:\n",
    "\n",
    "    def __init__(self, radius):\n",
    "        self.radius = radius\n",
    "\n",
    "    def get_area(self):\n",
    "        return math.pi * self.radius**2\n",
    "\n",
    "    def __repr__(self):\n",
    "        return \"Circle with radius \" + str(self.radius)\n",
    "    \n",
    "    def __add__(self, another_circle): # another_circle ---> self + another_circle\n",
    "        return Circle(self.radius + another_circle.radius)\n",
    "    \n",
    "    def __gt__(self, another_circle):\n",
    "        return self.radius > another_circle.radius\n",
    "\n",
    "    def __lt__(self, another_circle):\n",
    "        return self.radius < another_circle.radius\n",
    "\n"
   ]
  },
  {
   "cell_type": "code",
   "execution_count": 47,
   "id": "aab37f64",
   "metadata": {},
   "outputs": [
    {
     "data": {
      "text/plain": [
       "Circle with radius 25"
      ]
     },
     "execution_count": 47,
     "metadata": {},
     "output_type": "execute_result"
    }
   ],
   "source": [
    "c1 = Circle(10)\n",
    "c2 = Circle(15)\n",
    "\n",
    "c1 + c2"
   ]
  },
  {
   "cell_type": "code",
   "execution_count": 48,
   "id": "4c48f0dd",
   "metadata": {},
   "outputs": [
    {
     "data": {
      "text/plain": [
       "True"
      ]
     },
     "execution_count": 48,
     "metadata": {},
     "output_type": "execute_result"
    }
   ],
   "source": [
    "c1 < c2"
   ]
  },
  {
   "cell_type": "code",
   "execution_count": 49,
   "id": "946cfd61",
   "metadata": {},
   "outputs": [
    {
     "data": {
      "text/plain": [
       "False"
      ]
     },
     "execution_count": 49,
     "metadata": {},
     "output_type": "execute_result"
    }
   ],
   "source": [
    "c1 > c2"
   ]
  },
  {
   "cell_type": "code",
   "execution_count": 50,
   "id": "2896925e",
   "metadata": {},
   "outputs": [],
   "source": [
    "class Point:\n",
    "    def __init__(self, x=0, y=0):\n",
    "        self.x = x\n",
    "        self.y = y\n",
    "\n",
    "    def __add__(self, another_point):\n",
    "        return Point(self.x + another_point.x, self.y + another_point.y)\n",
    "\n",
    "    def __sub__(self, another_point):\n",
    "        return Point(self.x - another_point.x, self.y - another_point.y)\n",
    "\n",
    "    def __str__(self):\n",
    "        return f'{self.x}, {self.y}'"
   ]
  },
  {
   "cell_type": "code",
   "execution_count": 51,
   "id": "5ce353e7",
   "metadata": {},
   "outputs": [
    {
     "name": "stdout",
     "output_type": "stream",
     "text": [
      "11, 10\n"
     ]
    }
   ],
   "source": [
    "p1 = Point(3, 4)\n",
    "p2 = Point(8, 6)\n",
    "print(p2+p1)\n"
   ]
  },
  {
   "cell_type": "code",
   "execution_count": 52,
   "id": "fddcefa0",
   "metadata": {},
   "outputs": [
    {
     "name": "stdout",
     "output_type": "stream",
     "text": [
      "5, 2\n"
     ]
    }
   ],
   "source": [
    "print(p2-p1)"
   ]
  },
  {
   "cell_type": "code",
   "execution_count": 53,
   "id": "30a59d92",
   "metadata": {},
   "outputs": [
    {
     "name": "stdout",
     "output_type": "stream",
     "text": [
      "5.385164807134504\n"
     ]
    }
   ],
   "source": [
    "import math\n",
    "class Point:\n",
    "    def __init__(self, x=0, y=0):\n",
    "        self.x = x\n",
    "        self.y = y\n",
    "\n",
    "    def __add__(self, another_point):\n",
    "        return Point(self.x + another_point.x, self.y + another_point.y)\n",
    "\n",
    "    def __sub__(self, another_point):\n",
    "        return Point(self.x - another_point.x, self.y - another_point.y)\n",
    "\n",
    "    def length(self):\n",
    "        return math.sqrt(self.x**2 + self.y**2)\n",
    "\n",
    "    def distance(self, another_point):\n",
    "        return (self - another_point).length()\n",
    "\n",
    "    def __str__(self):\n",
    "        return f'{self.x}, {self.y}'\n",
    "\n",
    "p1 = Point(3, 4)\n",
    "p2 = Point(8, 6)\n",
    "print(p1.distance(p2))"
   ]
  },
  {
   "cell_type": "code",
   "execution_count": 54,
   "id": "b9be5d03",
   "metadata": {},
   "outputs": [
    {
     "name": "stdout",
     "output_type": "stream",
     "text": [
      "0\n",
      "1\n",
      "2\n",
      "3\n",
      "4\n"
     ]
    }
   ],
   "source": [
    "x = range(5)\n",
    "for i in x:\n",
    "    print(i)"
   ]
  },
  {
   "cell_type": "code",
   "execution_count": 55,
   "id": "b5591027",
   "metadata": {},
   "outputs": [],
   "source": [
    "class MyRange:\n",
    "\n",
    "    def __init__(self, limit):\n",
    "        self.limit = limit\n",
    "\n",
    "    def __iter__(self):\n",
    "        self.value = 0\n",
    "        return self\n",
    "\n",
    "    def __next__(self):\n",
    "        if self.value < self.limit:\n",
    "            output = self.value\n",
    "            self.value += 1\n",
    "            return output\n",
    "        else:\n",
    "            raise StopIteration\n"
   ]
  },
  {
   "cell_type": "code",
   "execution_count": 56,
   "id": "f2506995",
   "metadata": {},
   "outputs": [],
   "source": [
    "my_range = MyRange(10)\n"
   ]
  },
  {
   "cell_type": "code",
   "execution_count": 57,
   "id": "ddf35746",
   "metadata": {},
   "outputs": [
    {
     "data": {
      "text/plain": [
       "10"
      ]
     },
     "execution_count": 57,
     "metadata": {},
     "output_type": "execute_result"
    }
   ],
   "source": [
    "my_range.limit"
   ]
  },
  {
   "cell_type": "code",
   "execution_count": 58,
   "id": "e7db73e3",
   "metadata": {},
   "outputs": [],
   "source": [
    "i = iter(my_range)"
   ]
  },
  {
   "cell_type": "code",
   "execution_count": 59,
   "id": "44eae023",
   "metadata": {},
   "outputs": [],
   "source": [
    "ii = my_range.__iter__()"
   ]
  },
  {
   "cell_type": "code",
   "execution_count": 60,
   "id": "8d51b626",
   "metadata": {},
   "outputs": [
    {
     "data": {
      "text/plain": [
       "2549340306448"
      ]
     },
     "execution_count": 60,
     "metadata": {},
     "output_type": "execute_result"
    }
   ],
   "source": [
    "id(i)\n"
   ]
  },
  {
   "cell_type": "code",
   "execution_count": 61,
   "id": "f7f7dcb2",
   "metadata": {},
   "outputs": [
    {
     "data": {
      "text/plain": [
       "2549340306448"
      ]
     },
     "execution_count": 61,
     "metadata": {},
     "output_type": "execute_result"
    }
   ],
   "source": [
    "id(ii)"
   ]
  },
  {
   "cell_type": "code",
   "execution_count": 62,
   "id": "879b812d",
   "metadata": {},
   "outputs": [
    {
     "data": {
      "text/plain": [
       "0"
      ]
     },
     "execution_count": 62,
     "metadata": {},
     "output_type": "execute_result"
    }
   ],
   "source": [
    "next(i)"
   ]
  },
  {
   "cell_type": "code",
   "execution_count": 63,
   "id": "d6591db0",
   "metadata": {},
   "outputs": [
    {
     "data": {
      "text/plain": [
       "1"
      ]
     },
     "execution_count": 63,
     "metadata": {},
     "output_type": "execute_result"
    }
   ],
   "source": [
    "next(i)"
   ]
  },
  {
   "cell_type": "code",
   "execution_count": 64,
   "id": "e30f8d40",
   "metadata": {},
   "outputs": [
    {
     "data": {
      "text/plain": [
       "2"
      ]
     },
     "execution_count": 64,
     "metadata": {},
     "output_type": "execute_result"
    }
   ],
   "source": [
    "next(i)"
   ]
  },
  {
   "cell_type": "code",
   "execution_count": 65,
   "id": "a253b4c3",
   "metadata": {},
   "outputs": [
    {
     "data": {
      "text/plain": [
       "3"
      ]
     },
     "execution_count": 65,
     "metadata": {},
     "output_type": "execute_result"
    }
   ],
   "source": [
    "next(i)"
   ]
  },
  {
   "cell_type": "code",
   "execution_count": 66,
   "id": "e88fafd8",
   "metadata": {},
   "outputs": [
    {
     "data": {
      "text/plain": [
       "4"
      ]
     },
     "execution_count": 66,
     "metadata": {},
     "output_type": "execute_result"
    }
   ],
   "source": [
    "i.__next__()"
   ]
  },
  {
   "cell_type": "code",
   "execution_count": 67,
   "id": "84649429",
   "metadata": {},
   "outputs": [
    {
     "data": {
      "text/plain": [
       "5"
      ]
     },
     "execution_count": 67,
     "metadata": {},
     "output_type": "execute_result"
    }
   ],
   "source": [
    "i.__next__()"
   ]
  },
  {
   "cell_type": "code",
   "execution_count": 68,
   "id": "3d72649c",
   "metadata": {},
   "outputs": [
    {
     "data": {
      "text/plain": [
       "6"
      ]
     },
     "execution_count": 68,
     "metadata": {},
     "output_type": "execute_result"
    }
   ],
   "source": [
    "i.__next__()"
   ]
  },
  {
   "cell_type": "code",
   "execution_count": 69,
   "id": "fbd751e5",
   "metadata": {},
   "outputs": [
    {
     "data": {
      "text/plain": [
       "7"
      ]
     },
     "execution_count": 69,
     "metadata": {},
     "output_type": "execute_result"
    }
   ],
   "source": [
    "i.__next__()"
   ]
  },
  {
   "cell_type": "code",
   "execution_count": 70,
   "id": "0f3bf4c0",
   "metadata": {},
   "outputs": [
    {
     "data": {
      "text/plain": [
       "8"
      ]
     },
     "execution_count": 70,
     "metadata": {},
     "output_type": "execute_result"
    }
   ],
   "source": [
    "i.__next__()"
   ]
  },
  {
   "cell_type": "code",
   "execution_count": 71,
   "id": "0032a127",
   "metadata": {},
   "outputs": [
    {
     "data": {
      "text/plain": [
       "9"
      ]
     },
     "execution_count": 71,
     "metadata": {},
     "output_type": "execute_result"
    }
   ],
   "source": [
    "i.__next__()"
   ]
  },
  {
   "cell_type": "code",
   "execution_count": 72,
   "id": "c4d5a66b",
   "metadata": {},
   "outputs": [
    {
     "ename": "StopIteration",
     "evalue": "",
     "output_type": "error",
     "traceback": [
      "\u001b[1;31m---------------------------------------------------------------------------\u001b[0m",
      "\u001b[1;31mStopIteration\u001b[0m                             Traceback (most recent call last)",
      "\u001b[1;32m~\\AppData\\Local\\Temp/ipykernel_7980/2142742944.py\u001b[0m in \u001b[0;36m<module>\u001b[1;34m\u001b[0m\n\u001b[1;32m----> 1\u001b[1;33m \u001b[0mi\u001b[0m\u001b[1;33m.\u001b[0m\u001b[0m__next__\u001b[0m\u001b[1;33m(\u001b[0m\u001b[1;33m)\u001b[0m\u001b[1;33m\u001b[0m\u001b[1;33m\u001b[0m\u001b[0m\n\u001b[0m",
      "\u001b[1;32m~\\AppData\\Local\\Temp/ipykernel_7980/4284138114.py\u001b[0m in \u001b[0;36m__next__\u001b[1;34m(self)\u001b[0m\n\u001b[0;32m     14\u001b[0m             \u001b[1;32mreturn\u001b[0m \u001b[0moutput\u001b[0m\u001b[1;33m\u001b[0m\u001b[1;33m\u001b[0m\u001b[0m\n\u001b[0;32m     15\u001b[0m         \u001b[1;32melse\u001b[0m\u001b[1;33m:\u001b[0m\u001b[1;33m\u001b[0m\u001b[1;33m\u001b[0m\u001b[0m\n\u001b[1;32m---> 16\u001b[1;33m             \u001b[1;32mraise\u001b[0m \u001b[0mStopIteration\u001b[0m\u001b[1;33m\u001b[0m\u001b[1;33m\u001b[0m\u001b[0m\n\u001b[0m",
      "\u001b[1;31mStopIteration\u001b[0m: "
     ]
    }
   ],
   "source": [
    "i.__next__()"
   ]
  },
  {
   "cell_type": "code",
   "execution_count": 78,
   "id": "9aef832f",
   "metadata": {},
   "outputs": [
    {
     "name": "stdout",
     "output_type": "stream",
     "text": [
      "0\n",
      "1\n",
      "2\n",
      "3\n",
      "4\n",
      "5\n",
      "6\n",
      "7\n",
      "8\n",
      "9\n"
     ]
    }
   ],
   "source": [
    "for value in MyRange(10):\n",
    "    print(value)"
   ]
  },
  {
   "cell_type": "code",
   "execution_count": 79,
   "id": "b95da732",
   "metadata": {},
   "outputs": [
    {
     "name": "stdout",
     "output_type": "stream",
     "text": [
      "0\n",
      "1\n",
      "8\n",
      "27\n",
      "64\n",
      "125\n",
      "216\n",
      "343\n",
      "512\n",
      "729\n"
     ]
    }
   ],
   "source": [
    "class PowX:\n",
    "    def __init__(self, limit, power):\n",
    "        self.limit = limit\n",
    "        self.power = power\n",
    "\n",
    "    def __iter__(self):\n",
    "        self.value = 0\n",
    "        return self\n",
    "\n",
    "    def __next__(self):\n",
    "        if self.value < self.limit:\n",
    "            output = self.value**self.power\n",
    "            self.value += 1\n",
    "            return output\n",
    "        else:\n",
    "            raise StopIteration\n",
    "            \n",
    "            \n",
    "for ele in PowX(10, 3):\n",
    "    print(ele)\n"
   ]
  },
  {
   "cell_type": "code",
   "execution_count": 80,
   "id": "c07521ca",
   "metadata": {},
   "outputs": [
    {
     "ename": "TypeError",
     "evalue": "'Point' object is not iterable",
     "output_type": "error",
     "traceback": [
      "\u001b[1;31m---------------------------------------------------------------------------\u001b[0m",
      "\u001b[1;31mTypeError\u001b[0m                                 Traceback (most recent call last)",
      "\u001b[1;32m~\\AppData\\Local\\Temp/ipykernel_7980/614377410.py\u001b[0m in \u001b[0;36m<module>\u001b[1;34m\u001b[0m\n\u001b[1;32m----> 1\u001b[1;33m \u001b[1;32mfor\u001b[0m \u001b[0mi\u001b[0m \u001b[1;32min\u001b[0m \u001b[0mp1\u001b[0m\u001b[1;33m:\u001b[0m\u001b[1;33m\u001b[0m\u001b[1;33m\u001b[0m\u001b[0m\n\u001b[0m\u001b[0;32m      2\u001b[0m     \u001b[0mprint\u001b[0m\u001b[1;33m(\u001b[0m\u001b[0mi\u001b[0m\u001b[1;33m)\u001b[0m\u001b[1;33m\u001b[0m\u001b[1;33m\u001b[0m\u001b[0m\n",
      "\u001b[1;31mTypeError\u001b[0m: 'Point' object is not iterable"
     ]
    }
   ],
   "source": [
    "for i in p1:\n",
    "    print(i)"
   ]
  },
  {
   "cell_type": "code",
   "execution_count": 82,
   "id": "ca5902a4",
   "metadata": {},
   "outputs": [],
   "source": [
    "## lets use generator\n",
    "\n",
    "def PowX(limit, power):\n",
    "    value = 0\n",
    "    while value < limit:\n",
    "        yield value**power\n",
    "        value += 1"
   ]
  },
  {
   "cell_type": "code",
   "execution_count": 83,
   "id": "a313a466",
   "metadata": {},
   "outputs": [
    {
     "name": "stdout",
     "output_type": "stream",
     "text": [
      "0\n",
      "1\n",
      "8\n",
      "27\n",
      "64\n",
      "125\n",
      "216\n",
      "343\n",
      "512\n",
      "729\n"
     ]
    }
   ],
   "source": [
    "values = PowX(10, 3)\n",
    "for ele in values:\n",
    "    print(ele)"
   ]
  },
  {
   "cell_type": "code",
   "execution_count": 84,
   "id": "26848deb",
   "metadata": {},
   "outputs": [
    {
     "data": {
      "text/plain": [
       "<generator object PowX at 0x0000025190EF5510>"
      ]
     },
     "execution_count": 84,
     "metadata": {},
     "output_type": "execute_result"
    }
   ],
   "source": [
    "values"
   ]
  },
  {
   "cell_type": "code",
   "execution_count": 85,
   "id": "2e47ce2a",
   "metadata": {},
   "outputs": [],
   "source": [
    "for ele in values:\n",
    "    print(ele)"
   ]
  },
  {
   "cell_type": "code",
   "execution_count": 86,
   "id": "c8830e76",
   "metadata": {},
   "outputs": [],
   "source": [
    "values = PowX(10, 3)\n"
   ]
  },
  {
   "cell_type": "code",
   "execution_count": 87,
   "id": "7a695157",
   "metadata": {},
   "outputs": [
    {
     "data": {
      "text/plain": [
       "<generator object PowX at 0x0000025190EF59E0>"
      ]
     },
     "execution_count": 87,
     "metadata": {},
     "output_type": "execute_result"
    }
   ],
   "source": [
    "values"
   ]
  },
  {
   "cell_type": "code",
   "execution_count": 88,
   "id": "8a3d8e6e",
   "metadata": {},
   "outputs": [
    {
     "name": "stdout",
     "output_type": "stream",
     "text": [
      "[0, 1, 8, 27, 64, 125, 216, 343, 512, 729]\n"
     ]
    }
   ],
   "source": [
    "l = list(values)\n",
    "print(l)"
   ]
  },
  {
   "cell_type": "code",
   "execution_count": 89,
   "id": "0e10bfb2",
   "metadata": {},
   "outputs": [
    {
     "name": "stdout",
     "output_type": "stream",
     "text": [
      "0\n",
      "1\n",
      "8\n",
      "27\n",
      "64\n",
      "125\n",
      "216\n",
      "343\n",
      "512\n",
      "729\n"
     ]
    }
   ],
   "source": [
    "for e in l:\n",
    "    print(e)"
   ]
  },
  {
   "cell_type": "code",
   "execution_count": 90,
   "id": "5ae6a1ff",
   "metadata": {},
   "outputs": [
    {
     "name": "stdout",
     "output_type": "stream",
     "text": [
      "0\n",
      "1\n",
      "8\n",
      "27\n",
      "64\n",
      "125\n",
      "216\n",
      "343\n",
      "512\n",
      "729\n"
     ]
    }
   ],
   "source": [
    "for e in l:\n",
    "    print(e)"
   ]
  },
  {
   "cell_type": "code",
   "execution_count": null,
   "id": "f60b4a86",
   "metadata": {},
   "outputs": [],
   "source": []
  }
 ],
 "metadata": {
  "kernelspec": {
   "display_name": "Python 3 (ipykernel)",
   "language": "python",
   "name": "python3"
  },
  "language_info": {
   "codemirror_mode": {
    "name": "ipython",
    "version": 3
   },
   "file_extension": ".py",
   "mimetype": "text/x-python",
   "name": "python",
   "nbconvert_exporter": "python",
   "pygments_lexer": "ipython3",
   "version": "3.8.5"
  }
 },
 "nbformat": 4,
 "nbformat_minor": 5
}
