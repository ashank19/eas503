{
 "cells": [
  {
   "cell_type": "code",
   "execution_count": 3,
   "id": "69406805",
   "metadata": {},
   "outputs": [],
   "source": [
    "result = ['student1: B',\n",
    "'student2: B',\n",
    "'student3: B',\n",
    "'student4: A',\n",
    "'student5: B',\n",
    "'student6: B',\n",
    "'student7: D',\n",
    "'student8: C',\n",
    "'student9: B',\n",
    "'student10: A',\n",
    "'student11: C']\n",
    "\n",
    "output = ['student1: B', 'student2: B', 'student3: B', 'student4: B', 'student5: B', 'student6: B', 'student7: C', 'student8: C', 'student9: B', 'student10: C', 'student11: C', ]"
   ]
  },
  {
   "cell_type": "code",
   "execution_count": 4,
   "id": "83a8c6d4",
   "metadata": {},
   "outputs": [
    {
     "data": {
      "text/plain": [
       "False"
      ]
     },
     "execution_count": 4,
     "metadata": {},
     "output_type": "execute_result"
    }
   ],
   "source": [
    "result == output"
   ]
  },
  {
   "cell_type": "code",
   "execution_count": 6,
   "id": "87b1d36b",
   "metadata": {},
   "outputs": [
    {
     "name": "stdout",
     "output_type": "stream",
     "text": [
      "3 student4: A student4: B\n",
      "6 student7: D student7: C\n",
      "9 student10: A student10: C\n"
     ]
    }
   ],
   "source": [
    "for idx, value in enumerate(result):\n",
    "    if value != output[idx]:\n",
    "        print(idx, value, output[idx])"
   ]
  },
  {
   "cell_type": "code",
   "execution_count": 7,
   "id": "454baa71",
   "metadata": {},
   "outputs": [
    {
     "name": "stdout",
     "output_type": "stream",
     "text": [
      "3 student4: A student4: B\n",
      "6 student7: D student7: C\n",
      "9 student10: A student10: C\n"
     ]
    }
   ],
   "source": [
    "for idx in range(len(result)):\n",
    "    if result[idx] != output[idx]:\n",
    "        print(idx, result[idx], output[idx])"
   ]
  },
  {
   "cell_type": "code",
   "execution_count": null,
   "id": "82fc1ce6",
   "metadata": {},
   "outputs": [],
   "source": [
    "class Person:\n",
    "    def __init__(self, first_name, last_name):\n",
    "        self.first_name = first_name,\n",
    "        self.last_name = last_name\n",
    "        \n"
   ]
  },
  {
   "cell_type": "code",
   "execution_count": 10,
   "id": "64141eeb",
   "metadata": {},
   "outputs": [],
   "source": [
    "from abc import ABC, abstractmethod\n",
    "\n",
    "\n",
    "class Employee(ABC):\n",
    "    def __init__(self, first_name, last_name, ssn):\n",
    "        self.first_name = first_name\n",
    "        self.last_name = last_name\n",
    "        self.ssn = ssn\n",
    "\n",
    "    @abstractmethod\n",
    "    def earnings(self):\n",
    "        pass\n",
    "\n",
    "    def __repr__(self):\n",
    "        return f'{self.first_name} {self.last_name}\\nsocial security: {self.ssn}'"
   ]
  },
  {
   "cell_type": "code",
   "execution_count": 11,
   "id": "a205d880",
   "metadata": {},
   "outputs": [],
   "source": [
    "e1 = Employee('John', 'Doe', '111-22-3333')"
   ]
  },
  {
   "cell_type": "code",
   "execution_count": 12,
   "id": "abe336c3",
   "metadata": {},
   "outputs": [],
   "source": [
    "e1.earnings()\n"
   ]
  },
  {
   "cell_type": "code",
   "execution_count": 13,
   "id": "35c555e7",
   "metadata": {},
   "outputs": [
    {
     "data": {
      "text/plain": [
       "John Doe\n",
       "social security: 111-22-3333"
      ]
     },
     "execution_count": 13,
     "metadata": {},
     "output_type": "execute_result"
    }
   ],
   "source": [
    "e1"
   ]
  },
  {
   "cell_type": "code",
   "execution_count": 15,
   "id": "76f26234",
   "metadata": {},
   "outputs": [],
   "source": [
    "class SalariedEmployee(Employee):\n",
    "    def __init__(self, first_name, last_name, ssn, salary):\n",
    "        super().__init__(first_name, last_name, ssn)\n",
    "        self.weekly_salary = salary\n",
    "\n",
    "    def earnings(self):\n",
    "        return self.weekly_salary\n",
    "\n",
    "    def __repr__(self):\n",
    "        return f'salaried employee: {super().__repr__()}\\nweekly salary: ${self.weekly_salary}'\n"
   ]
  },
  {
   "cell_type": "code",
   "execution_count": 16,
   "id": "ca0b2db9",
   "metadata": {},
   "outputs": [],
   "source": [
    "salaried_employee = SalariedEmployee('John', 'Doe', '111-22-3333', 500)"
   ]
  },
  {
   "cell_type": "code",
   "execution_count": 17,
   "id": "1a526c01",
   "metadata": {},
   "outputs": [
    {
     "data": {
      "text/plain": [
       "500"
      ]
     },
     "execution_count": 17,
     "metadata": {},
     "output_type": "execute_result"
    }
   ],
   "source": [
    "salaried_employee.earnings()"
   ]
  },
  {
   "cell_type": "code",
   "execution_count": 18,
   "id": "160bf10a",
   "metadata": {},
   "outputs": [
    {
     "data": {
      "text/plain": [
       "salaried employee: John Doe\n",
       "social security: 111-22-3333\n",
       "weekly salary: $500"
      ]
     },
     "execution_count": 18,
     "metadata": {},
     "output_type": "execute_result"
    }
   ],
   "source": [
    "salaried_employee"
   ]
  },
  {
   "cell_type": "code",
   "execution_count": 19,
   "id": "165f50ed",
   "metadata": {},
   "outputs": [],
   "source": [
    "class HourlyEmployee(Employee):\n",
    "    def __init__(self, first_name, last_name, ssn, hourly_wage, hours_worked):\n",
    "        super().__init__(first_name, last_name, ssn)\n",
    "        self.hourly_wage = hourly_wage\n",
    "        self.hours_worked = hours_worked\n",
    "\n",
    "    def earnings(self):\n",
    "        if self.hours_worked < 40:  # no overtime\n",
    "            earned = self.hourly_wage * self.hours_worked\n",
    "        else:\n",
    "            earned = 40 * self.hourly_wage + \\\n",
    "                (self.hours_worked - 40) * self.hourly_wage * 1.5\n",
    "\n",
    "        return earned\n",
    "\n",
    "    def __repr__(self):\n",
    "        return f'hourly employee: {super().__repr__()}\\nhourly wage: ${self.hourly_wage}; hours worked: {self.hours_worked}'"
   ]
  },
  {
   "cell_type": "code",
   "execution_count": 20,
   "id": "7bc50f06",
   "metadata": {},
   "outputs": [],
   "source": [
    "hourly_employee = HourlyEmployee('John', 'Doe', '111-22-3333', 25, 45)"
   ]
  },
  {
   "cell_type": "code",
   "execution_count": 21,
   "id": "24437fa6",
   "metadata": {},
   "outputs": [
    {
     "data": {
      "text/plain": [
       "1187.5"
      ]
     },
     "execution_count": 21,
     "metadata": {},
     "output_type": "execute_result"
    }
   ],
   "source": [
    "hourly_employee.earnings()"
   ]
  },
  {
   "cell_type": "code",
   "execution_count": 22,
   "id": "3ae61300",
   "metadata": {},
   "outputs": [
    {
     "data": {
      "text/plain": [
       "hourly employee: John Doe\n",
       "social security: 111-22-3333\n",
       "hourly wage: $25; hours worked: 45"
      ]
     },
     "execution_count": 22,
     "metadata": {},
     "output_type": "execute_result"
    }
   ],
   "source": [
    "hourly_employee"
   ]
  },
  {
   "cell_type": "code",
   "execution_count": 23,
   "id": "fdf16e52",
   "metadata": {},
   "outputs": [],
   "source": [
    "class CommissionEmployee(Employee):\n",
    "    def __init__(self, first_name, last_name, ssn, sales, rate):\n",
    "        super().__init__(first_name, last_name, ssn)\n",
    "        self.sales = sales\n",
    "        self.rate = rate\n",
    "\n",
    "    def earnings(self):\n",
    "        earned = self.sales * self.rate\n",
    "        return earned\n",
    "\n",
    "    def __repr__(self):\n",
    "        return f'commission employee: {super().__repr__()}\\ngross sales: ${self.sales}; commission rate: {self.rate}'"
   ]
  },
  {
   "cell_type": "code",
   "execution_count": 24,
   "id": "f1ecb4ef",
   "metadata": {},
   "outputs": [],
   "source": [
    "commission_employee = CommissionEmployee('John', 'Doe', '111-22-3333', 1000, 0.05)"
   ]
  },
  {
   "cell_type": "code",
   "execution_count": 25,
   "id": "57ab07c9",
   "metadata": {},
   "outputs": [
    {
     "data": {
      "text/plain": [
       "50.0"
      ]
     },
     "execution_count": 25,
     "metadata": {},
     "output_type": "execute_result"
    }
   ],
   "source": [
    "commission_employee.earnings()"
   ]
  },
  {
   "cell_type": "code",
   "execution_count": 26,
   "id": "71b74719",
   "metadata": {},
   "outputs": [
    {
     "data": {
      "text/plain": [
       "commission employee: John Doe\n",
       "social security: 111-22-3333\n",
       "gross sales: $1000; commission rate: 0.05"
      ]
     },
     "execution_count": 26,
     "metadata": {},
     "output_type": "execute_result"
    }
   ],
   "source": [
    "commission_employee"
   ]
  },
  {
   "cell_type": "code",
   "execution_count": 27,
   "id": "a1875e22",
   "metadata": {},
   "outputs": [],
   "source": [
    "class BasePlusCommissionEmployee(CommissionEmployee):\n",
    "    def __init__(self, first_name, last_name, ssn, sales, rate, salary):\n",
    "        super().__init__(first_name, last_name, ssn, sales, rate)\n",
    "        self.salary = salary\n",
    "\n",
    "    def earnings(self):\n",
    "        earned = self.salary + super().earnings()\n",
    "        return earned\n",
    "\n",
    "    def __repr__(self):\n",
    "        return f'base-salaried {super().__repr__()}; base-salary: ${self.salary}'"
   ]
  },
  {
   "cell_type": "code",
   "execution_count": 28,
   "id": "6f9b0e02",
   "metadata": {},
   "outputs": [],
   "source": [
    "base_plus_commission_employee = BasePlusCommissionEmployee('John', 'Doe', '111-22-3333', 1000, 0.05, 20000)"
   ]
  },
  {
   "cell_type": "code",
   "execution_count": 29,
   "id": "75567af1",
   "metadata": {},
   "outputs": [
    {
     "data": {
      "text/plain": [
       "20050.0"
      ]
     },
     "execution_count": 29,
     "metadata": {},
     "output_type": "execute_result"
    }
   ],
   "source": [
    "base_plus_commission_employee.earnings()"
   ]
  },
  {
   "cell_type": "code",
   "execution_count": 30,
   "id": "c81df0ad",
   "metadata": {},
   "outputs": [
    {
     "data": {
      "text/plain": [
       "base-salaried commission employee: John Doe\n",
       "social security: 111-22-3333\n",
       "gross sales: $1000; commission rate: 0.05; base-salary: $20000"
      ]
     },
     "execution_count": 30,
     "metadata": {},
     "output_type": "execute_result"
    }
   ],
   "source": [
    "base_plus_commission_employee"
   ]
  },
  {
   "cell_type": "code",
   "execution_count": 31,
   "id": "385f751f",
   "metadata": {},
   "outputs": [
    {
     "name": "stdout",
     "output_type": "stream",
     "text": [
      "\n",
      "salaried employee: John Smith\n",
      "social security: 111-11-1111\n",
      "weekly salary: $800\n",
      "earned: $800\n",
      "\n",
      "hourly employee: Karen Price\n",
      "social security: 222-22-2222\n",
      "hourly wage: $16.75; hours worked: 40\n",
      "earned: $670.0\n",
      "\n",
      "commission employee: Sue Jones\n",
      "social security: 333-33-3333\n",
      "gross sales: $10000; commission rate: 0.06\n",
      "earned: $600.0\n",
      "\n",
      "base-salaried commission employee: Bob Lewis\n",
      "social security: 444-44-4444\n",
      "gross sales: $5000; commission rate: 0.04; base-salary: $300\n",
      "earned: $500.0\n"
     ]
    }
   ],
   "source": [
    "salaried_employee = SalariedEmployee('John', 'Smith', '111-11-1111', 800)\n",
    "hourly_employee = HourlyEmployee('Karen', 'Price', '222-22-2222', 16.75, 40)\n",
    "commission_employee = CommissionEmployee('Sue', 'Jones', '333-33-3333', 10000, 0.06)\n",
    "base_plus_commission_employee = BasePlusCommissionEmployee('Bob', 'Lewis', '444-44-4444', 5000, 0.04, 300)\n",
    "\n",
    "\n",
    "employees = [\n",
    "    salaried_employee, \n",
    "    hourly_employee,\n",
    "    commission_employee, \n",
    "    base_plus_commission_employee\n",
    "]\n",
    "\n",
    "for employee in employees:\n",
    "    print()\n",
    "    print(employee)\n",
    "    print(f'earned: ${employee.earnings()}')"
   ]
  },
  {
   "cell_type": "code",
   "execution_count": null,
   "id": "c8a7da68",
   "metadata": {},
   "outputs": [],
   "source": [
    "for employee in employees:\n",
    "    print()\n",
    "    print(employee)\n",
    "    if employee.__class__.__name__ == 'BasePlusCommissionEmployee':\n",
    "        employee.salary = 1.10 * employee.salary\n",
    "        print(f'new base salary with 10% increase is {employee.salary}')\n",
    "    print(f'earned: ${employee.earnings()}')"
   ]
  }
 ],
 "metadata": {
  "kernelspec": {
   "display_name": "Python 3 (ipykernel)",
   "language": "python",
   "name": "python3"
  },
  "language_info": {
   "codemirror_mode": {
    "name": "ipython",
    "version": 3
   },
   "file_extension": ".py",
   "mimetype": "text/x-python",
   "name": "python",
   "nbconvert_exporter": "python",
   "pygments_lexer": "ipython3",
   "version": "3.8.5"
  }
 },
 "nbformat": 4,
 "nbformat_minor": 5
}
