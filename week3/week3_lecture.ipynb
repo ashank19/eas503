{
 "cells": [
  {
   "cell_type": "code",
   "execution_count": 1,
   "id": "eb681afa",
   "metadata": {},
   "outputs": [
    {
     "data": {
      "text/plain": [
       "3.14"
      ]
     },
     "execution_count": 1,
     "metadata": {},
     "output_type": "execute_result"
    }
   ],
   "source": [
    "x = 3.1415\n",
    "\n",
    "round(x, 2)"
   ]
  },
  {
   "cell_type": "code",
   "execution_count": 2,
   "id": "3505b105",
   "metadata": {},
   "outputs": [
    {
     "name": "stdout",
     "output_type": "stream",
     "text": [
      "3.14\n"
     ]
    }
   ],
   "source": [
    "y = f'{x:.2f}'\n",
    "print(y)"
   ]
  },
  {
   "cell_type": "code",
   "execution_count": 3,
   "id": "6b190456",
   "metadata": {},
   "outputs": [
    {
     "data": {
      "text/plain": [
       "3.2"
      ]
     },
     "execution_count": 3,
     "metadata": {},
     "output_type": "execute_result"
    }
   ],
   "source": [
    "z = 3.199\n",
    "round(z, 2)"
   ]
  },
  {
   "cell_type": "code",
   "execution_count": 4,
   "id": "4c52ba5b",
   "metadata": {},
   "outputs": [
    {
     "name": "stdout",
     "output_type": "stream",
     "text": [
      "3.20\n"
     ]
    }
   ],
   "source": [
    "zz = f'{z:.2f}'\n",
    "print(zz)"
   ]
  },
  {
   "cell_type": "code",
   "execution_count": 6,
   "id": "836687b8",
   "metadata": {},
   "outputs": [
    {
     "name": "stdout",
     "output_type": "stream",
     "text": [
      "90\n",
      "409\n",
      "\n"
     ]
    }
   ],
   "source": [
    "x = 90\n",
    "y = 409\n",
    "\n",
    "s1 = f\"\"\"{x}\n",
    "{y}\n",
    "\"\"\"\n",
    "print(s1)"
   ]
  },
  {
   "cell_type": "code",
   "execution_count": 7,
   "id": "12ca3ec5",
   "metadata": {},
   "outputs": [
    {
     "name": "stdout",
     "output_type": "stream",
     "text": [
      "90\n",
      "409\n"
     ]
    }
   ],
   "source": [
    "string = f'{x}\\n'\n",
    "string +=  f'{y}'\n",
    "\n",
    "print(string)"
   ]
  },
  {
   "cell_type": "code",
   "execution_count": 8,
   "id": "06b489f3",
   "metadata": {},
   "outputs": [
    {
     "data": {
      "text/plain": [
       "499"
      ]
     },
     "execution_count": 8,
     "metadata": {},
     "output_type": "execute_result"
    }
   ],
   "source": [
    "x + y "
   ]
  },
  {
   "cell_type": "code",
   "execution_count": 9,
   "id": "cea69e73",
   "metadata": {},
   "outputs": [
    {
     "data": {
      "text/plain": [
       "int"
      ]
     },
     "execution_count": 9,
     "metadata": {},
     "output_type": "execute_result"
    }
   ],
   "source": [
    "a = round(2)\n",
    "type(a)"
   ]
  },
  {
   "cell_type": "code",
   "execution_count": 11,
   "id": "3e1636c2",
   "metadata": {},
   "outputs": [
    {
     "data": {
      "text/plain": [
       "float"
      ]
     },
     "execution_count": 11,
     "metadata": {},
     "output_type": "execute_result"
    }
   ],
   "source": [
    "type(round(2.2, 2))"
   ]
  },
  {
   "cell_type": "code",
   "execution_count": 12,
   "id": "27b8abe0",
   "metadata": {},
   "outputs": [
    {
     "data": {
      "text/plain": [
       "float"
      ]
     },
     "execution_count": 12,
     "metadata": {},
     "output_type": "execute_result"
    }
   ],
   "source": [
    "type(abs(-3.0))"
   ]
  },
  {
   "cell_type": "code",
   "execution_count": 13,
   "id": "f0420991",
   "metadata": {},
   "outputs": [
    {
     "data": {
      "text/plain": [
       "int"
      ]
     },
     "execution_count": 13,
     "metadata": {},
     "output_type": "execute_result"
    }
   ],
   "source": [
    "type(abs(-3))"
   ]
  },
  {
   "cell_type": "code",
   "execution_count": 14,
   "id": "aa9936a1",
   "metadata": {},
   "outputs": [],
   "source": [
    "title = '|' + '{:^51}'.format('Cereal Yields (kg/ha)') + '|'"
   ]
  },
  {
   "cell_type": "code",
   "execution_count": 15,
   "id": "fde39fe3",
   "metadata": {},
   "outputs": [
    {
     "name": "stdout",
     "output_type": "stream",
     "text": [
      "|\n"
     ]
    }
   ],
   "source": [
    "print('|')"
   ]
  },
  {
   "cell_type": "code",
   "execution_count": 16,
   "id": "1c087198",
   "metadata": {},
   "outputs": [
    {
     "name": "stdout",
     "output_type": "stream",
     "text": [
      "               Cereal Yields (kg/ha)               \n"
     ]
    }
   ],
   "source": [
    "print('{:^51}'.format('Cereal Yields (kg/ha)'))"
   ]
  },
  {
   "cell_type": "code",
   "execution_count": 17,
   "id": "040cff48",
   "metadata": {},
   "outputs": [
    {
     "name": "stdout",
     "output_type": "stream",
     "text": [
      "|               Cereal Yields (kg/ha)               |\n"
     ]
    }
   ],
   "source": [
    "print(title)"
   ]
  },
  {
   "cell_type": "code",
   "execution_count": 18,
   "id": "6643a49f",
   "metadata": {},
   "outputs": [
    {
     "name": "stdout",
     "output_type": "stream",
     "text": [
      "|               Cereal Yields (kg/ha)               |\n"
     ]
    }
   ],
   "source": [
    "header = 'Cereal Yields (kg/ha)'\n",
    "title = '|' + f'{header:^51}' + '|'\n",
    "print(title)"
   ]
  },
  {
   "cell_type": "code",
   "execution_count": 20,
   "id": "150e9d09",
   "metadata": {},
   "outputs": [
    {
     "name": "stdout",
     "output_type": "stream",
     "text": [
      "                       3.142                       \n"
     ]
    }
   ],
   "source": [
    "pi = 3.1415\n",
    "\n",
    "number = f'{pi:^51.3f}'\n",
    "print(number)"
   ]
  },
  {
   "cell_type": "code",
   "execution_count": 22,
   "id": "7159c1e3",
   "metadata": {},
   "outputs": [
    {
     "name": "stdout",
     "output_type": "stream",
     "text": [
      "000000000000000000000003.14200000000000000000000000\n"
     ]
    }
   ],
   "source": [
    "number = f'{pi:0^51.3f}'\n",
    "print(number)"
   ]
  },
  {
   "cell_type": "code",
   "execution_count": 26,
   "id": "66a4b293",
   "metadata": {},
   "outputs": [
    {
     "name": "stdout",
     "output_type": "stream",
     "text": [
      "001234\n"
     ]
    }
   ],
   "source": [
    "mrn = 1234\n",
    "\n",
    "new_mrn = f'{mrn:0>6}'\n",
    "print(new_mrn)"
   ]
  },
  {
   "cell_type": "code",
   "execution_count": 27,
   "id": "7a6b274c",
   "metadata": {},
   "outputs": [
    {
     "name": "stdout",
     "output_type": "stream",
     "text": [
      "001234\n"
     ]
    }
   ],
   "source": [
    "new_mrn = f'{mrn:06}'\n",
    "print(new_mrn)"
   ]
  },
  {
   "cell_type": "code",
   "execution_count": 33,
   "id": "f33e45ca",
   "metadata": {},
   "outputs": [
    {
     "name": "stdout",
     "output_type": "stream",
     "text": [
      "--1234\n"
     ]
    }
   ],
   "source": [
    "new_mrn = f'{mrn:->6}'\n",
    "print(new_mrn)"
   ]
  },
  {
   "cell_type": "code",
   "execution_count": 34,
   "id": "3c6a45e3",
   "metadata": {},
   "outputs": [
    {
     "name": "stdout",
     "output_type": "stream",
     "text": [
      "+---------------+--------+--------+--------+--------+\n"
     ]
    }
   ],
   "source": [
    "line = '+' + '-'*15 + '+' + ('-'*8 + '+')*4\n",
    "print(line)"
   ]
  },
  {
   "cell_type": "code",
   "execution_count": 35,
   "id": "f296f8b7",
   "metadata": {},
   "outputs": [
    {
     "name": "stdout",
     "output_type": "stream",
     "text": [
      "| {:<13} | {:6,d} | {:6,d} | {:6,d} | {:6,d} |\n"
     ]
    }
   ],
   "source": [
    "row = '| {:<13} |' + ' {:6,d} |'*4\n",
    "\n",
    "print(row)"
   ]
  },
  {
   "cell_type": "code",
   "execution_count": 37,
   "id": "5c33dd2a",
   "metadata": {},
   "outputs": [
    {
     "name": "stdout",
     "output_type": "stream",
     "text": [
      "1234556\n"
     ]
    }
   ],
   "source": [
    "x = f'{1234556:6d}'\n",
    "print(x)\n"
   ]
  },
  {
   "cell_type": "code",
   "execution_count": 38,
   "id": "30a332dc",
   "metadata": {},
   "outputs": [
    {
     "name": "stdout",
     "output_type": "stream",
     "text": [
      "|    Country    |  1980  |  1990  |  2000  |  2010  |\n"
     ]
    }
   ],
   "source": [
    "header = '| {:^13s} |'.format('Country') + (' {:^6d} |'*4).format(1980, 1990,\n",
    "                                                                  2000, 2010)\n",
    "print(header)"
   ]
  },
  {
   "cell_type": "code",
   "execution_count": 39,
   "id": "cda50366",
   "metadata": {},
   "outputs": [],
   "source": [
    "title = '|' + '{:^51}'.format('Cereal Yields (kg/ha)') + '|'\n",
    "line = '+' + '-'*15 + '+' + ('-'*8 + '+')*4\n",
    "row = '| {:<13} |' + ' {:6,d} |'*4\n",
    "header = '| {:^13s} |'.format('Country') + (' {:^6d} |'*4).format(1980, 1990,2000, 2010)"
   ]
  },
  {
   "cell_type": "code",
   "execution_count": 40,
   "id": "bcfd96ed",
   "metadata": {},
   "outputs": [
    {
     "name": "stdout",
     "output_type": "stream",
     "text": [
      "1 2 abc 3.4\n"
     ]
    }
   ],
   "source": [
    "print(1, 2, 'abc', 3.4)"
   ]
  },
  {
   "cell_type": "code",
   "execution_count": 41,
   "id": "51a9ae6b",
   "metadata": {},
   "outputs": [
    {
     "name": "stdout",
     "output_type": "stream",
     "text": [
      "1-2-abc-3.4\n"
     ]
    }
   ],
   "source": [
    "print(1, 2, 'abc', 3.4, sep='-')"
   ]
  },
  {
   "cell_type": "code",
   "execution_count": 42,
   "id": "04c03c71",
   "metadata": {},
   "outputs": [
    {
     "name": "stdout",
     "output_type": "stream",
     "text": [
      "+---------------------------------------------------+\n",
      "|               Cereal Yields (kg/ha)               |\n",
      "+---------------+--------+--------+--------+--------+\n",
      "|    Country    |  1980  |  1990  |  2000  |  2010  |\n",
      "+---------------+--------+--------+--------+--------+\n",
      "| China         |  2,937 |  4,321 |  4,752 |  5,527 |\n",
      "| Germany       |  4,225 |  5,411 |  6,453 |  6,718 |\n",
      "| United States |  3,772 |  4,755 |  5,854 |  6,988 |\n",
      "+---------------+--------+--------+--------+--------+\n"
     ]
    }
   ],
   "source": [
    "print('+' + '-'*(len(title)-2) + '+',\n",
    "      title,\n",
    "      line,\n",
    "      header,\n",
    "      line,\n",
    "      row.format('China', 2937, 4321, 4752, 5527),\n",
    "      row.format('Germany', 4225, 5411, 6453, 6718),\n",
    "      row.format('United States', 3772, 4755, 5854, 6988),\n",
    "      line,\n",
    "      sep='\\n')"
   ]
  },
  {
   "cell_type": "code",
   "execution_count": 43,
   "id": "8efee8e7",
   "metadata": {},
   "outputs": [
    {
     "name": "stdout",
     "output_type": "stream",
     "text": [
      "+---------------------------------------------------+\n"
     ]
    }
   ],
   "source": [
    "print('+' + '-'*(len(title)-2) + '+')"
   ]
  },
  {
   "cell_type": "code",
   "execution_count": 44,
   "id": "6c47a90c",
   "metadata": {},
   "outputs": [],
   "source": [
    "a = 1\n",
    "b = 2"
   ]
  },
  {
   "cell_type": "code",
   "execution_count": 45,
   "id": "b8fa2168",
   "metadata": {},
   "outputs": [
    {
     "data": {
      "text/plain": [
       "False"
      ]
     },
     "execution_count": 45,
     "metadata": {},
     "output_type": "execute_result"
    }
   ],
   "source": [
    "a == b"
   ]
  },
  {
   "cell_type": "code",
   "execution_count": 46,
   "id": "08655d01",
   "metadata": {},
   "outputs": [],
   "source": [
    "# a = b ## avoid this"
   ]
  },
  {
   "cell_type": "code",
   "execution_count": 47,
   "id": "71e5608f",
   "metadata": {},
   "outputs": [
    {
     "data": {
      "text/plain": [
       "True"
      ]
     },
     "execution_count": 47,
     "metadata": {},
     "output_type": "execute_result"
    }
   ],
   "source": [
    "a != b"
   ]
  },
  {
   "cell_type": "code",
   "execution_count": 48,
   "id": "8daf3275",
   "metadata": {},
   "outputs": [
    {
     "data": {
      "text/plain": [
       "False"
      ]
     },
     "execution_count": 48,
     "metadata": {},
     "output_type": "execute_result"
    }
   ],
   "source": [
    "a > b"
   ]
  },
  {
   "cell_type": "code",
   "execution_count": 49,
   "id": "9cd7ad4f",
   "metadata": {},
   "outputs": [
    {
     "data": {
      "text/plain": [
       "True"
      ]
     },
     "execution_count": 49,
     "metadata": {},
     "output_type": "execute_result"
    }
   ],
   "source": [
    "a < b"
   ]
  },
  {
   "cell_type": "code",
   "execution_count": 50,
   "id": "f4b6138c",
   "metadata": {},
   "outputs": [
    {
     "data": {
      "text/plain": [
       "False"
      ]
     },
     "execution_count": 50,
     "metadata": {},
     "output_type": "execute_result"
    }
   ],
   "source": [
    "a >= b"
   ]
  },
  {
   "cell_type": "code",
   "execution_count": 51,
   "id": "b9070daa",
   "metadata": {},
   "outputs": [
    {
     "data": {
      "text/plain": [
       "False"
      ]
     },
     "execution_count": 51,
     "metadata": {},
     "output_type": "execute_result"
    }
   ],
   "source": [
    "a>=b"
   ]
  },
  {
   "cell_type": "code",
   "execution_count": 52,
   "id": "c025a994",
   "metadata": {},
   "outputs": [
    {
     "name": "stdout",
     "output_type": "stream",
     "text": [
      "You can access\n"
     ]
    }
   ],
   "source": [
    "is_teacher = True\n",
    "is_active = True\n",
    "\n",
    "if is_teacher and is_active: \n",
    "    print('You can access')"
   ]
  },
  {
   "cell_type": "code",
   "execution_count": 53,
   "id": "4db9059f",
   "metadata": {},
   "outputs": [],
   "source": [
    "is_teacher = True\n",
    "is_active = False\n",
    "\n",
    "if is_teacher and is_active: \n",
    "    print('You can access')"
   ]
  },
  {
   "cell_type": "code",
   "execution_count": 55,
   "id": "48bda5a0",
   "metadata": {},
   "outputs": [
    {
     "name": "stdout",
     "output_type": "stream",
     "text": [
      "You can access\n"
     ]
    }
   ],
   "source": [
    "is_teacher = True\n",
    "is_active = False\n",
    "is_superuser = True\n",
    "\n",
    "if is_superuser or (is_teacher and is_active): \n",
    "    print('You can access')"
   ]
  },
  {
   "cell_type": "code",
   "execution_count": 56,
   "id": "6868e531",
   "metadata": {},
   "outputs": [],
   "source": [
    "if not is_superuser: \n",
    "    print('You cannot access')"
   ]
  },
  {
   "cell_type": "code",
   "execution_count": 57,
   "id": "1f4f1522",
   "metadata": {},
   "outputs": [
    {
     "data": {
      "text/plain": [
       "False"
      ]
     },
     "execution_count": 57,
     "metadata": {},
     "output_type": "execute_result"
    }
   ],
   "source": [
    "not True\n"
   ]
  },
  {
   "cell_type": "code",
   "execution_count": 58,
   "id": "ed6f9c2a",
   "metadata": {},
   "outputs": [
    {
     "data": {
      "text/plain": [
       "True"
      ]
     },
     "execution_count": 58,
     "metadata": {},
     "output_type": "execute_result"
    }
   ],
   "source": [
    "not False"
   ]
  },
  {
   "cell_type": "code",
   "execution_count": 59,
   "id": "c3738965",
   "metadata": {},
   "outputs": [],
   "source": [
    "def f():\n",
    "    return None\n",
    "\n",
    "def g():\n",
    "    return True\n",
    "\n",
    "output1 = f()\n",
    "if output1:\n",
    "    print('There is an output')"
   ]
  },
  {
   "cell_type": "code",
   "execution_count": 60,
   "id": "7a92d9ac",
   "metadata": {},
   "outputs": [
    {
     "name": "stdout",
     "output_type": "stream",
     "text": [
      "There is an output\n"
     ]
    }
   ],
   "source": [
    "output2 = g()\n",
    "if output2:\n",
    "    print('There is an output')"
   ]
  },
  {
   "cell_type": "code",
   "execution_count": 61,
   "id": "5d861bc0",
   "metadata": {},
   "outputs": [
    {
     "data": {
      "text/plain": [
       "True"
      ]
     },
     "execution_count": 61,
     "metadata": {},
     "output_type": "execute_result"
    }
   ],
   "source": [
    "x = 2\n",
    "y = 5\n",
    "z = 7\n",
    "\n",
    "x < y and y < z"
   ]
  },
  {
   "cell_type": "code",
   "execution_count": 62,
   "id": "760cecb6",
   "metadata": {},
   "outputs": [
    {
     "data": {
      "text/plain": [
       "True"
      ]
     },
     "execution_count": 62,
     "metadata": {},
     "output_type": "execute_result"
    }
   ],
   "source": [
    "(x < y) and (y < z) # better"
   ]
  },
  {
   "cell_type": "code",
   "execution_count": 63,
   "id": "d623f900",
   "metadata": {},
   "outputs": [
    {
     "data": {
      "text/plain": [
       "True"
      ]
     },
     "execution_count": 63,
     "metadata": {},
     "output_type": "execute_result"
    }
   ],
   "source": [
    "x < y < z  # best"
   ]
  },
  {
   "cell_type": "code",
   "execution_count": 64,
   "id": "a38d553e",
   "metadata": {},
   "outputs": [
    {
     "data": {
      "text/plain": [
       "True"
      ]
     },
     "execution_count": 64,
     "metadata": {},
     "output_type": "execute_result"
    }
   ],
   "source": [
    "3 < 5 != True "
   ]
  },
  {
   "cell_type": "code",
   "execution_count": 65,
   "id": "2c663dbf",
   "metadata": {},
   "outputs": [
    {
     "data": {
      "text/plain": [
       "False"
      ]
     },
     "execution_count": 65,
     "metadata": {},
     "output_type": "execute_result"
    }
   ],
   "source": [
    "True != True"
   ]
  },
  {
   "cell_type": "code",
   "execution_count": 66,
   "id": "1e582256",
   "metadata": {},
   "outputs": [
    {
     "data": {
      "text/plain": [
       "True"
      ]
     },
     "execution_count": 66,
     "metadata": {},
     "output_type": "execute_result"
    }
   ],
   "source": [
    "3 < "
   ]
  },
  {
   "cell_type": "code",
   "execution_count": 67,
   "id": "9986f4ca",
   "metadata": {},
   "outputs": [
    {
     "data": {
      "text/plain": [
       "True"
      ]
     },
     "execution_count": 67,
     "metadata": {},
     "output_type": "execute_result"
    }
   ],
   "source": [
    "5 != True"
   ]
  },
  {
   "cell_type": "code",
   "execution_count": 68,
   "id": "b26d78fe",
   "metadata": {},
   "outputs": [
    {
     "data": {
      "text/plain": [
       "False"
      ]
     },
     "execution_count": 68,
     "metadata": {},
     "output_type": "execute_result"
    }
   ],
   "source": [
    "3 < True"
   ]
  },
  {
   "cell_type": "code",
   "execution_count": 73,
   "id": "9c46a82b",
   "metadata": {},
   "outputs": [
    {
     "data": {
      "text/plain": [
       "False"
      ]
     },
     "execution_count": 73,
     "metadata": {},
     "output_type": "execute_result"
    }
   ],
   "source": [
    "3 < (5 != True)"
   ]
  },
  {
   "cell_type": "code",
   "execution_count": 74,
   "id": "7d276e31",
   "metadata": {},
   "outputs": [
    {
     "data": {
      "text/plain": [
       "True"
      ]
     },
     "execution_count": 74,
     "metadata": {},
     "output_type": "execute_result"
    }
   ],
   "source": [
    "(3 < 5) and (5 != True)"
   ]
  },
  {
   "cell_type": "code",
   "execution_count": 75,
   "id": "c8d03393",
   "metadata": {},
   "outputs": [
    {
     "data": {
      "text/plain": [
       "True"
      ]
     },
     "execution_count": 75,
     "metadata": {},
     "output_type": "execute_result"
    }
   ],
   "source": [
    "5 != True"
   ]
  },
  {
   "cell_type": "code",
   "execution_count": 76,
   "id": "1d444e69",
   "metadata": {},
   "outputs": [
    {
     "data": {
      "text/plain": [
       "True"
      ]
     },
     "execution_count": 76,
     "metadata": {},
     "output_type": "execute_result"
    }
   ],
   "source": [
    "'A' < 'a'"
   ]
  },
  {
   "cell_type": "code",
   "execution_count": 77,
   "id": "d3967dd3",
   "metadata": {},
   "outputs": [
    {
     "data": {
      "text/plain": [
       "True"
      ]
     },
     "execution_count": 77,
     "metadata": {},
     "output_type": "execute_result"
    }
   ],
   "source": [
    "1 == True"
   ]
  },
  {
   "cell_type": "code",
   "execution_count": 78,
   "id": "0851b948",
   "metadata": {},
   "outputs": [
    {
     "data": {
      "text/plain": [
       "True"
      ]
     },
     "execution_count": 78,
     "metadata": {},
     "output_type": "execute_result"
    }
   ],
   "source": [
    "5 != True"
   ]
  },
  {
   "cell_type": "code",
   "execution_count": 79,
   "id": "28af4000",
   "metadata": {},
   "outputs": [
    {
     "data": {
      "text/plain": [
       "True"
      ]
     },
     "execution_count": 79,
     "metadata": {},
     "output_type": "execute_result"
    }
   ],
   "source": [
    "0 == False"
   ]
  },
  {
   "cell_type": "code",
   "execution_count": 80,
   "id": "f04a57a3",
   "metadata": {},
   "outputs": [
    {
     "data": {
      "text/plain": [
       "True"
      ]
     },
     "execution_count": 80,
     "metadata": {},
     "output_type": "execute_result"
    }
   ],
   "source": [
    "1 == True"
   ]
  },
  {
   "cell_type": "code",
   "execution_count": null,
   "id": "4fb65146",
   "metadata": {},
   "outputs": [],
   "source": []
  }
 ],
 "metadata": {
  "kernelspec": {
   "display_name": "Python 3 (ipykernel)",
   "language": "python",
   "name": "python3"
  },
  "language_info": {
   "codemirror_mode": {
    "name": "ipython",
    "version": 3
   },
   "file_extension": ".py",
   "mimetype": "text/x-python",
   "name": "python",
   "nbconvert_exporter": "python",
   "pygments_lexer": "ipython3",
   "version": "3.8.5"
  }
 },
 "nbformat": 4,
 "nbformat_minor": 5
}
