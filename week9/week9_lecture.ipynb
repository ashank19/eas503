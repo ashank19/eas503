{
 "cells": [
  {
   "cell_type": "code",
   "execution_count": 1,
   "id": "04e2840e",
   "metadata": {},
   "outputs": [],
   "source": [
    "import json\n",
    "\n",
    "data = [\n",
    "    {\n",
    "        'student_name': 'John Doe',\n",
    "        'major': 'Math'\n",
    "    },\n",
    "    {\n",
    "        'student_name': 'Jane Doe',\n",
    "        'major': 'Chemistry'\n",
    "    },\n",
    "\n",
    "]\n",
    "\n",
    "filename = 'test.json'\n"
   ]
  },
  {
   "cell_type": "code",
   "execution_count": 2,
   "id": "86218dd7",
   "metadata": {},
   "outputs": [],
   "source": [
    "## Save data\n",
    "with open(filename, 'w') as file:\n",
    "    json.dump(data, file, sort_keys=True, indent=2, separators=(',', ': '), ensure_ascii=False)\n",
    "\n"
   ]
  },
  {
   "cell_type": "code",
   "execution_count": 3,
   "id": "540171d4",
   "metadata": {},
   "outputs": [],
   "source": [
    "## read the json file\n",
    "with open(filename, 'r') as file:\n",
    "    data_reloaded = json.load(file)\n"
   ]
  },
  {
   "cell_type": "code",
   "execution_count": 4,
   "id": "0798adfd",
   "metadata": {},
   "outputs": [
    {
     "data": {
      "text/plain": [
       "True"
      ]
     },
     "execution_count": 4,
     "metadata": {},
     "output_type": "execute_result"
    }
   ],
   "source": [
    "data == data_reloaded"
   ]
  },
  {
   "cell_type": "code",
   "execution_count": null,
   "id": "97f4ba55",
   "metadata": {},
   "outputs": [],
   "source": []
  }
 ],
 "metadata": {
  "kernelspec": {
   "display_name": "Python 3 (ipykernel)",
   "language": "python",
   "name": "python3"
  },
  "language_info": {
   "codemirror_mode": {
    "name": "ipython",
    "version": 3
   },
   "file_extension": ".py",
   "mimetype": "text/x-python",
   "name": "python",
   "nbconvert_exporter": "python",
   "pygments_lexer": "ipython3",
   "version": "3.8.5"
  }
 },
 "nbformat": 4,
 "nbformat_minor": 5
}
