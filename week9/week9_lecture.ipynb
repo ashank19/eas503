{
 "cells": [
  {
   "cell_type": "code",
   "execution_count": 1,
   "id": "5f281719",
   "metadata": {},
   "outputs": [],
   "source": [
    "import json\n",
    "\n",
    "data = [\n",
    "    {\n",
    "        'student_name': 'John Doe',\n",
    "        'major': 'Math'\n",
    "    },\n",
    "    {\n",
    "        'student_name': 'Jane Doe',\n",
    "        'major': 'Chemistry'\n",
    "    },\n",
    "\n",
    "]\n",
    "\n",
    "filename = 'test.json'\n"
   ]
  },
  {
   "cell_type": "code",
   "execution_count": 2,
   "id": "b15f9b17",
   "metadata": {},
   "outputs": [],
   "source": [
    "## Save data\n",
    "with open(filename, 'w') as file:\n",
    "    json.dump(data, file, sort_keys=True, indent=2, separators=(',', ': '), ensure_ascii=False)\n",
    "\n"
   ]
  },
  {
   "cell_type": "code",
   "execution_count": 3,
   "id": "8d4e9e1c",
   "metadata": {},
   "outputs": [],
   "source": [
    "## read the json file\n",
    "with open(filename, 'r') as file:\n",
    "    data_reloaded = json.load(file)\n"
   ]
  },
  {
   "cell_type": "code",
   "execution_count": 4,
   "id": "0771fbb3",
   "metadata": {},
   "outputs": [
    {
     "data": {
      "text/plain": [
       "True"
      ]
     },
     "execution_count": 4,
     "metadata": {},
     "output_type": "execute_result"
    }
   ],
   "source": [
    "data == data_reloaded"
   ]
  },
  {
   "cell_type": "code",
   "execution_count": 5,
   "id": "c96b9fe6",
   "metadata": {},
   "outputs": [
    {
     "data": {
      "text/plain": [
       "{'Broccoli', 'Squash'}"
      ]
     },
     "execution_count": 5,
     "metadata": {},
     "output_type": "execute_result"
    }
   ],
   "source": [
    "qty_products = (\n",
    "    'Potatoes',\n",
    "    'Avacados',\n",
    "    'Kiwis',\n",
    "    'Onions',\n",
    "    'Melons',\n",
    "    'Broccoli',\n",
    "    'Squash',\n",
    ")\n",
    "\n",
    "prc_products = (\n",
    "    'Potatoes',\n",
    "    'Avacados',\n",
    "    'Kiwis',\n",
    "    'Onions',\n",
    "    'Melons',\n",
    "    'Oranges',\n",
    "    'Tomatoes',\n",
    ")\n",
    "\n",
    "set(qty_products) - set(prc_products)"
   ]
  },
  {
   "cell_type": "code",
   "execution_count": 6,
   "id": "5818701a",
   "metadata": {},
   "outputs": [
    {
     "data": {
      "text/plain": [
       "{'Oranges', 'Tomatoes'}"
      ]
     },
     "execution_count": 6,
     "metadata": {},
     "output_type": "execute_result"
    }
   ],
   "source": [
    "set(prc_products) - set(qty_products)"
   ]
  },
  {
   "cell_type": "code",
   "execution_count": 7,
   "id": "74457953",
   "metadata": {},
   "outputs": [
    {
     "data": {
      "text/plain": [
       "{'Avacados', 'Kiwis', 'Melons', 'Onions', 'Potatoes'}"
      ]
     },
     "execution_count": 7,
     "metadata": {},
     "output_type": "execute_result"
    }
   ],
   "source": [
    "set(prc_products) & set(qty_products)"
   ]
  },
  {
   "cell_type": "code",
   "execution_count": null,
   "id": "8c15ec0d",
   "metadata": {},
   "outputs": [],
   "source": [
    "INSERT INTO Cars (make_model_id, color_id, available) VALUES (1, colors['Green'], 1);\n",
    "\n",
    "colors = {\n",
    "    'Red': 1,\n",
    "    'Blue': 2,\n",
    "    'Green': 3\n",
    "}"
   ]
  },
  {
   "cell_type": "code",
   "execution_count": 8,
   "id": "3991400f",
   "metadata": {},
   "outputs": [
    {
     "data": {
      "text/plain": [
       "3"
      ]
     },
     "execution_count": 8,
     "metadata": {},
     "output_type": "execute_result"
    }
   ],
   "source": [
    "colors = {\n",
    "    'Red': 1,\n",
    "    'Blue': 2,\n",
    "    'Green': 3\n",
    "}\n",
    "\n",
    "colors['Green']"
   ]
  },
  {
   "cell_type": "code",
   "execution_count": null,
   "id": "834be925",
   "metadata": {},
   "outputs": [],
   "source": []
  }
 ],
 "metadata": {
  "kernelspec": {
   "display_name": "Python 3 (ipykernel)",
   "language": "python",
   "name": "python3"
  },
  "language_info": {
   "codemirror_mode": {
    "name": "ipython",
    "version": 3
   },
   "file_extension": ".py",
   "mimetype": "text/x-python",
   "name": "python",
   "nbconvert_exporter": "python",
   "pygments_lexer": "ipython3",
   "version": "3.8.5"
  }
 },
 "nbformat": 4,
 "nbformat_minor": 5
}
